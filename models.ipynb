{
  "nbformat": 4,
  "nbformat_minor": 0,
  "metadata": {
    "colab": {
      "name": "test.ipynb",
      "provenance": [],
      "collapsed_sections": [],
      "authorship_tag": "ABX9TyN6S4OKfQBzFDC6hqFXeHsn",
      "include_colab_link": true
    },
    "kernelspec": {
      "name": "python3",
      "display_name": "Python 3"
    },
    "accelerator": "GPU"
  },
  "cells": [
    {
      "cell_type": "markdown",
      "metadata": {
        "id": "view-in-github",
        "colab_type": "text"
      },
      "source": [
        "<a href=\"https://colab.research.google.com/github/vishnuiiit/human-identification/blob/master/models.ipynb\" target=\"_parent\"><img src=\"https://colab.research.google.com/assets/colab-badge.svg\" alt=\"Open In Colab\"/></a>"
      ]
    },
    {
      "cell_type": "code",
      "metadata": {
        "colab": {
          "base_uri": "https://localhost:8080/"
        },
        "id": "Am-wHv3C-hzD",
        "outputId": "39e87a29-c5f9-4af4-9382-a1fb8235f91b"
      },
      "source": [
        "from google.colab import drive\r\n",
        "drive.mount('/content/drive')"
      ],
      "execution_count": null,
      "outputs": [
        {
          "output_type": "stream",
          "text": [
            "Mounted at /content/drive\n"
          ],
          "name": "stdout"
        }
      ]
    },
    {
      "cell_type": "code",
      "metadata": {
        "id": "r_Gjwy6F0s4k"
      },
      "source": [
        "import os\r\n",
        "os.mkdir('/content/data')\r\n",
        "!unzip \"/content/drive/My Drive/data/faces.zip\" -d \"/content/data/faces\""
      ],
      "execution_count": null,
      "outputs": []
    },
    {
      "cell_type": "code",
      "metadata": {
        "id": "zRVLY4XsA_I2"
      },
      "source": [
        "!unzip \"/content/drive/My Drive/data/audio.zip\" -d \"/content/data\""
      ],
      "execution_count": null,
      "outputs": []
    },
    {
      "cell_type": "code",
      "metadata": {
        "id": "0E-xbG72szlF"
      },
      "source": [
        "!unzip \"/content/drive/My Drive/data/subSetFaces.zip\" -d \"/content/data\""
      ],
      "execution_count": null,
      "outputs": []
    },
    {
      "cell_type": "markdown",
      "metadata": {
        "id": "7dLKCMPxyiaa"
      },
      "source": [
        "**Data Preprocessing**"
      ]
    },
    {
      "cell_type": "code",
      "metadata": {
        "id": "ByHkNq5XunIb"
      },
      "source": [
        "from PIL import Image\r\n",
        "import tensorflow as tf\r\n",
        "from matplotlib import image\r\n",
        "import matplotlib.pyplot as plt\r\n",
        "import numpy as np\r\n",
        "import os\r\n",
        "import random\r\n",
        "import csv\r\n",
        "import glob\r\n",
        "import shutil\r\n",
        "import pathlib\r\n",
        "\r\n",
        "class Data:\r\n",
        "    def __init__(self, pId, name, gender, nationality):\r\n",
        "        self.id = pId\r\n",
        "        self.name = name\r\n",
        "        self.gender = gender\r\n",
        "        self.nationality = nationality\r\n"
      ],
      "execution_count": null,
      "outputs": []
    },
    {
      "cell_type": "code",
      "metadata": {
        "id": "IF6D6wL8Gwvm"
      },
      "source": [
        "def getMetaData(path):\r\n",
        "    data = {}\r\n",
        "    with open(path) as csvFile:\r\n",
        "        csv_reader = csv.reader(csvFile, delimiter='\\t')\r\n",
        "        line = 0\r\n",
        "        for row in csv_reader:\r\n",
        "            if line != 0:\r\n",
        "                data[row[0]] = Data(row[0], row[1], row[2], row[3])\r\n",
        "            line += 1\r\n",
        "\r\n",
        "    return data\r\n",
        "\r\n",
        "def getNames(dataDict, parentDir):\r\n",
        "    names = []\r\n",
        "    subDirs = next(os.walk(parentDir))[1]\r\n",
        "    for subDir in subDirs:\r\n",
        "        pId = subDir\r\n",
        "        names.append([pId, dataDict[pId].name])\r\n",
        "\r\n",
        "    return names\r\n",
        "\r\n",
        "image_raw_data_path = '/content/data/subSetFaces'\r\n",
        "audio_data_path = '/content/data/wav'\r\n",
        "meta_data_path = '/content/drive/My Drive/data/vox1_meta.csv'\r\n",
        "all_data = getMetaData(meta_data_path)\r\n",
        "all_names = getNames(all_data, audio_data_path)\r\n"
      ],
      "execution_count": null,
      "outputs": []
    },
    {
      "cell_type": "code",
      "metadata": {
        "id": "4aFyBrESzxVt"
      },
      "source": [
        "def reset_weights(model):\r\n",
        "    for layer in model.layers:\r\n",
        "        if isinstance(layer, tf.keras.Model): #if you're using a model as a layer\r\n",
        "            reset_weights(layer) #apply function recursively\r\n",
        "            continue\r\n",
        "\r\n",
        "        #where are the initializers?\r\n",
        "        if hasattr(layer, 'cell'):\r\n",
        "            init_container = layer.cell\r\n",
        "        else:\r\n",
        "            init_container = layer\r\n",
        "\r\n",
        "        for key, initializer in init_container.__dict__.items():\r\n",
        "            if \"initializer\" not in key: #is this item an initializer?\r\n",
        "                  continue #if no, skip it\r\n",
        "\r\n",
        "            # find the corresponding variable, like the kernel or the bias\r\n",
        "            if key == 'recurrent_initializer': #special case check\r\n",
        "                var = getattr(init_container, 'recurrent_kernel')\r\n",
        "            else:\r\n",
        "                var = getattr(init_container, key.replace(\"_initializer\", \"\"))\r\n",
        "\r\n",
        "            var.assign(initializer(var.shape, var.dtype))\r\n",
        "            #use the initializer"
      ],
      "execution_count": null,
      "outputs": []
    },
    {
      "cell_type": "code",
      "metadata": {
        "colab": {
          "base_uri": "https://localhost:8080/"
        },
        "id": "Czeg5wfWclRc",
        "outputId": "5ede72f6-fa0e-4e9b-8770-fa25db326cf1"
      },
      "source": [
        "def getImageData(parentDir, subDirs, imagesPerLabel=100, totalLabels=20, imgDim=(300, 300)):\r\n",
        "    images = []\r\n",
        "    labels = []\r\n",
        "    i = 0\r\n",
        "    for subDir in subDirs:\r\n",
        "        pDir = os.path.join(parentDir, subDir[1])\r\n",
        "        imagesInEachSubDir = []\r\n",
        "        for fn in glob.glob(os.path.join(pDir, '1.6/*')):\r\n",
        "            imagesInEachSubDir.append(len(glob.glob(os.path.join(fn, '*jpg'))))\r\n",
        "\r\n",
        "        totalImagesFromEachDir = []\r\n",
        "        totalImagesInserted = 0\r\n",
        "\r\n",
        "        while totalImagesInserted != imagesPerLabel:\r\n",
        "            for j in range(len(imagesInEachSubDir)):\r\n",
        "                if totalImagesInserted == imagesPerLabel:\r\n",
        "                    break\r\n",
        "                if len(totalImagesFromEachDir) < j + 1:\r\n",
        "                    totalImagesFromEachDir.append(0)\r\n",
        "                if totalImagesFromEachDir[j] < imagesInEachSubDir[j]:\r\n",
        "                    totalImagesFromEachDir[j] += 1\r\n",
        "                    totalImagesInserted += 1\r\n",
        "\r\n",
        "        j = 0\r\n",
        "        imagesInsertedThisLabel = 0\r\n",
        "        for subSubDir in glob.glob(os.path.join(pDir, '1.6/*')):\r\n",
        "            imagesThisDirInserted = 0\r\n",
        "            for fn in glob.glob(os.path.join(subSubDir, '*.jpg')):\r\n",
        "                img = Image.open(fn)\r\n",
        "                img = img.resize(imgDim)\r\n",
        "                img = np.asarray(img)\r\n",
        "                images.append(img)\r\n",
        "                labels.append(i)\r\n",
        "                imagesThisDirInserted += 1\r\n",
        "                imagesInsertedThisLabel += 1\r\n",
        "                if imagesThisDirInserted == totalImagesFromEachDir[j]:\r\n",
        "                    break\r\n",
        "            j += 1\r\n",
        "        if imagesInsertedThisLabel != imagesPerLabel:\r\n",
        "            print(pDir, ' : ', imagesInsertedThisLabel)\r\n",
        "            print(imagesInEachSubDir)\r\n",
        "            print(totalImagesFromEachDir)\r\n",
        "        i += 1\r\n",
        "        if i >= totalLabels:\r\n",
        "            break\r\n",
        "    labels = tf.keras.utils.to_categorical(labels)\r\n",
        "    return np.array(images), labels\r\n",
        "\r\n",
        "img_dim = (246, 246)\r\n",
        "image_data, image_labels = getImageData(image_raw_data_path, all_names, imagesPerLabel=100, totalLabels=len(all_names), imgDim=img_dim)\r\n",
        "print('image data: ', image_data.shape, 'labels: ', image_labels.shape)"
      ],
      "execution_count": null,
      "outputs": [
        {
          "output_type": "stream",
          "text": [
            "image data:  (4000, 246, 246, 3) labels:  (4000, 40)\n"
          ],
          "name": "stdout"
        }
      ]
    },
    {
      "cell_type": "code",
      "metadata": {
        "colab": {
          "base_uri": "https://localhost:8080/"
        },
        "id": "3Sr0xESi5NBI",
        "outputId": "6a36876f-946e-4596-e977-edd6b8e5d8d3"
      },
      "source": [
        "img_input_dim = img_dim + (3, )\r\n",
        "print(img_input_dim)"
      ],
      "execution_count": null,
      "outputs": [
        {
          "output_type": "stream",
          "text": [
            "(246, 246, 3)\n"
          ],
          "name": "stdout"
        }
      ]
    },
    {
      "cell_type": "code",
      "metadata": {
        "id": "hS1o3351dZN-"
      },
      "source": [
        "def getAllData(x, y, testDataSize=0.1):\r\n",
        "    testIndex = []\r\n",
        "    testX = []\r\n",
        "    testY = []\r\n",
        "    dataX = []\r\n",
        "    dataY = []\r\n",
        "    testDataSize = int(len(x) * testDataSize)\r\n",
        "    if testDataSize < 0 or testDataSize > len(x):\r\n",
        "        raise ValueError('testDataSize should be between 0 and len(x)')\r\n",
        "    for i in range(testDataSize):\r\n",
        "        temp = random.randint(0, len(x) - 1)\r\n",
        "        while temp in testIndex:\r\n",
        "            temp = random.randint(0, len(x) - 1)\r\n",
        "        testIndex.append(temp)\r\n",
        "        testX.append(x[temp])\r\n",
        "        testY.append(y[temp])\r\n",
        "\r\n",
        "    testX = np.array(testX)\r\n",
        "    testY = np.array(testY)\r\n",
        "\r\n",
        "    for i in range(x.shape[0]):\r\n",
        "        if not i in testIndex:\r\n",
        "            dataX.append(x[i])\r\n",
        "            dataY.append(y[i])\r\n",
        "\r\n",
        "    dataX = np.array(dataX)\r\n",
        "    dataY = np.array(dataY)\r\n",
        "    return dataX, dataY, testX, testY\r\n"
      ],
      "execution_count": null,
      "outputs": []
    },
    {
      "cell_type": "markdown",
      "metadata": {
        "id": "D__PUrX-yXJM"
      },
      "source": [
        "**Image Classification Model**"
      ]
    },
    {
      "cell_type": "code",
      "metadata": {
        "colab": {
          "base_uri": "https://localhost:8080/"
        },
        "id": "bEjMgYDadpAw",
        "outputId": "180dbb8f-4786-4188-dea8-982b85769dfd"
      },
      "source": [
        "train_img_data, train_img_labels, val_img_data, val_img_labels = getAllData(image_data, image_labels)\r\n",
        "print('training data: ', train_img_data.shape, ' training labels: ', train_img_labels.shape)\r\n",
        "print('validation data: ', val_img_data.shape, ' validation labels: ', val_img_labels.shape)"
      ],
      "execution_count": null,
      "outputs": [
        {
          "output_type": "stream",
          "text": [
            "training data:  (3600, 246, 246, 3)  training labels:  (3600, 40)\n",
            "validation data:  (400, 246, 246, 3)  validation labels:  (400, 40)\n"
          ],
          "name": "stdout"
        }
      ]
    },
    {
      "cell_type": "code",
      "metadata": {
        "id": "xFpHFfbIeK6c",
        "colab": {
          "base_uri": "https://localhost:8080/"
        },
        "outputId": "327bb9e2-cf0d-49da-cb68-7c689877f4c3"
      },
      "source": [
        "model = tf.keras.Sequential()\r\n",
        "model.add(tf.keras.layers.Input(img_input_dim))\r\n",
        "model.add(tf.keras.layers.experimental.preprocessing.Rescaling(1. / 255))\r\n",
        "model.add(tf.keras.layers.Conv2D(64, (3, 3), activation='relu', kernel_initializer='he_normal', kernel_regularizer=tf.keras.regularizers.l2(0.001)))\r\n",
        "# model.add(tf.keras.layers.Dropout(0.5))\r\n",
        "model.add(tf.keras.layers.MaxPool2D())\r\n",
        "model.add(tf.keras.layers.Conv2D(64, (3, 3), activation='relu', kernel_initializer='he_normal', kernel_regularizer=tf.keras.regularizers.l2(0.001)))\r\n",
        "# model.add(tf.keras.layers.Dropout(0.5))\r\n",
        "model.add(tf.keras.layers.MaxPool2D((4, 4)))\r\n",
        "# model.add(tf.keras.layers.Conv2D(128, (3, 3), activation='relu', kernel_initializer='he_normal'))\r\n",
        "# # model.add(tf.keras.layers.Dropout(0.5))\r\n",
        "# model.add(tf.keras.layers.MaxPool2D())\r\n",
        "# model.add(tf.keras.layers.Conv2D(128, (6, 6), activation='relu', kernel_initializer='he_normal'))\r\n",
        "# # model.add(tf.keras.layers.Dropout(0.5))\r\n",
        "model.add(tf.keras.layers.Flatten())\r\n",
        "model.add(tf.keras.layers.Dense(64, activation='relu', kernel_initializer='he_normal'))\r\n",
        "model.add(tf.keras.layers.Dropout(0.25))\r\n",
        "model.add(tf.keras.layers.Dense(len(val_img_labels[0]), activation='softmax'))\r\n",
        "model.summary()"
      ],
      "execution_count": null,
      "outputs": [
        {
          "output_type": "stream",
          "text": [
            "Model: \"sequential_28\"\n",
            "_________________________________________________________________\n",
            "Layer (type)                 Output Shape              Param #   \n",
            "=================================================================\n",
            "rescaling_19 (Rescaling)     (None, 246, 246, 3)       0         \n",
            "_________________________________________________________________\n",
            "conv2d_35 (Conv2D)           (None, 244, 244, 64)      1792      \n",
            "_________________________________________________________________\n",
            "max_pooling2d_35 (MaxPooling (None, 122, 122, 64)      0         \n",
            "_________________________________________________________________\n",
            "conv2d_36 (Conv2D)           (None, 120, 120, 64)      36928     \n",
            "_________________________________________________________________\n",
            "max_pooling2d_36 (MaxPooling (None, 30, 30, 64)        0         \n",
            "_________________________________________________________________\n",
            "flatten_19 (Flatten)         (None, 57600)             0         \n",
            "_________________________________________________________________\n",
            "dense_19 (Dense)             (None, 64)                3686464   \n",
            "_________________________________________________________________\n",
            "dropout_10 (Dropout)         (None, 64)                0         \n",
            "_________________________________________________________________\n",
            "dense_20 (Dense)             (None, 40)                2600      \n",
            "=================================================================\n",
            "Total params: 3,727,784\n",
            "Trainable params: 3,727,784\n",
            "Non-trainable params: 0\n",
            "_________________________________________________________________\n"
          ],
          "name": "stdout"
        }
      ]
    },
    {
      "cell_type": "code",
      "metadata": {
        "id": "MuO3qQfaecdN",
        "colab": {
          "base_uri": "https://localhost:8080/",
          "height": 1000
        },
        "outputId": "e393629a-489d-4d12-8ad6-86b29abc914b"
      },
      "source": [
        "model.compile(optimizer=tf.keras.optimizers.SGD(), loss='categorical_crossentropy', metrics=['accuracy'])\r\n",
        "\r\n",
        "callback = tf.keras.callbacks.EarlyStopping(monitor='accuracy', patience=3)\r\n",
        "\r\n",
        "reset_weights(model)\r\n",
        "model.evaluate(val_img_data, val_img_labels)\r\n",
        "model.evaluate(train_img_data, train_img_labels)\r\n",
        "history = model.fit(train_img_data, train_img_labels, epochs=100, batch_size=32, validation_data=(val_img_data, val_img_labels), shuffle=True, callbacks=[callback])\r\n",
        "model.evaluate(train_img_data, train_img_labels)\r\n",
        "model.evaluate(val_img_data, val_img_labels)\r\n",
        "\r\n",
        "plt.plot(history.history['accuracy'])\r\n",
        "plt.plot(history.history['val_accuracy'])\r\n",
        "plt.title('model accuracy')\r\n",
        "plt.ylabel('accuracy')\r\n",
        "plt.xlabel('epoch')\r\n",
        "plt.legend(['train', 'test'], loc='upper left')\r\n",
        "plt.show()\r\n",
        "# summarize history for loss\r\n",
        "plt.plot(history.history['loss'])\r\n",
        "plt.plot(history.history['val_loss'])\r\n",
        "plt.title('model loss')\r\n",
        "plt.ylabel('loss')\r\n",
        "plt.xlabel('epoch')\r\n",
        "plt.legend(['train', 'test'], loc='upper left')\r\n",
        "plt.show()"
      ],
      "execution_count": null,
      "outputs": [
        {
          "output_type": "stream",
          "text": [
            "13/13 [==============================] - 0s 11ms/step - loss: 3.8095 - accuracy: 0.0236\n",
            "113/113 [==============================] - 1s 11ms/step - loss: 3.7912 - accuracy: 0.0233\n",
            "Epoch 1/100\n",
            "113/113 [==============================] - 4s 34ms/step - loss: 3.7040 - accuracy: 0.0300 - val_loss: 3.6380 - val_accuracy: 0.0675\n",
            "Epoch 2/100\n",
            "113/113 [==============================] - 4s 34ms/step - loss: 3.6002 - accuracy: 0.0608 - val_loss: 3.4914 - val_accuracy: 0.1150\n",
            "Epoch 3/100\n",
            "113/113 [==============================] - 4s 34ms/step - loss: 3.4312 - accuracy: 0.1139 - val_loss: 3.2906 - val_accuracy: 0.1675\n",
            "Epoch 4/100\n",
            "113/113 [==============================] - 4s 34ms/step - loss: 3.1712 - accuracy: 0.1711 - val_loss: 3.0607 - val_accuracy: 0.2325\n",
            "Epoch 5/100\n",
            "113/113 [==============================] - 4s 34ms/step - loss: 2.8882 - accuracy: 0.2383 - val_loss: 2.8253 - val_accuracy: 0.2700\n",
            "Epoch 6/100\n",
            "113/113 [==============================] - 4s 34ms/step - loss: 2.5891 - accuracy: 0.3017 - val_loss: 2.4738 - val_accuracy: 0.3375\n",
            "Epoch 7/100\n",
            "113/113 [==============================] - 4s 34ms/step - loss: 2.2908 - accuracy: 0.3775 - val_loss: 2.0901 - val_accuracy: 0.4475\n",
            "Epoch 8/100\n",
            "113/113 [==============================] - 4s 34ms/step - loss: 2.0075 - accuracy: 0.4514 - val_loss: 2.0825 - val_accuracy: 0.4175\n",
            "Epoch 9/100\n",
            "113/113 [==============================] - 4s 36ms/step - loss: 1.7044 - accuracy: 0.5203 - val_loss: 1.4991 - val_accuracy: 0.6000\n",
            "Epoch 10/100\n",
            "113/113 [==============================] - 4s 34ms/step - loss: 1.4742 - accuracy: 0.5903 - val_loss: 1.4387 - val_accuracy: 0.6025\n",
            "Epoch 11/100\n",
            "113/113 [==============================] - 4s 34ms/step - loss: 1.2167 - accuracy: 0.6586 - val_loss: 1.2555 - val_accuracy: 0.6475\n",
            "Epoch 12/100\n",
            "113/113 [==============================] - 4s 34ms/step - loss: 1.0091 - accuracy: 0.7100 - val_loss: 1.1324 - val_accuracy: 0.6750\n",
            "Epoch 13/100\n",
            "113/113 [==============================] - 4s 34ms/step - loss: 0.8480 - accuracy: 0.7589 - val_loss: 0.9883 - val_accuracy: 0.7175\n",
            "Epoch 14/100\n",
            "113/113 [==============================] - 4s 34ms/step - loss: 0.7142 - accuracy: 0.7933 - val_loss: 0.8917 - val_accuracy: 0.7400\n",
            "Epoch 15/100\n",
            "113/113 [==============================] - 4s 34ms/step - loss: 0.6158 - accuracy: 0.8222 - val_loss: 0.8128 - val_accuracy: 0.7700\n",
            "Epoch 16/100\n",
            "113/113 [==============================] - 4s 34ms/step - loss: 0.5096 - accuracy: 0.8553 - val_loss: 0.8355 - val_accuracy: 0.7600\n",
            "Epoch 17/100\n",
            "113/113 [==============================] - 4s 34ms/step - loss: 0.4436 - accuracy: 0.8750 - val_loss: 0.7663 - val_accuracy: 0.7825\n",
            "Epoch 18/100\n",
            "113/113 [==============================] - 4s 34ms/step - loss: 0.3958 - accuracy: 0.8892 - val_loss: 0.8096 - val_accuracy: 0.7550\n",
            "Epoch 19/100\n",
            "113/113 [==============================] - 4s 34ms/step - loss: 0.3352 - accuracy: 0.9083 - val_loss: 0.6564 - val_accuracy: 0.8050\n",
            "Epoch 20/100\n",
            "113/113 [==============================] - 4s 34ms/step - loss: 0.2757 - accuracy: 0.9244 - val_loss: 0.6231 - val_accuracy: 0.8100\n",
            "Epoch 21/100\n",
            "113/113 [==============================] - 4s 34ms/step - loss: 0.2769 - accuracy: 0.9244 - val_loss: 0.5960 - val_accuracy: 0.8100\n",
            "Epoch 22/100\n",
            "113/113 [==============================] - 4s 34ms/step - loss: 0.2309 - accuracy: 0.9389 - val_loss: 0.5763 - val_accuracy: 0.8125\n",
            "Epoch 23/100\n",
            "113/113 [==============================] - 4s 34ms/step - loss: 0.2036 - accuracy: 0.9453 - val_loss: 0.6663 - val_accuracy: 0.8100\n",
            "Epoch 24/100\n",
            "113/113 [==============================] - 4s 34ms/step - loss: 0.1817 - accuracy: 0.9489 - val_loss: 0.5944 - val_accuracy: 0.8250\n",
            "Epoch 25/100\n",
            "113/113 [==============================] - 4s 34ms/step - loss: 0.1730 - accuracy: 0.9514 - val_loss: 0.6193 - val_accuracy: 0.8125\n",
            "Epoch 26/100\n",
            "113/113 [==============================] - 4s 34ms/step - loss: 0.1665 - accuracy: 0.9536 - val_loss: 0.5584 - val_accuracy: 0.8350\n",
            "Epoch 27/100\n",
            "113/113 [==============================] - 4s 34ms/step - loss: 0.1485 - accuracy: 0.9581 - val_loss: 0.6063 - val_accuracy: 0.8250\n",
            "Epoch 28/100\n",
            "113/113 [==============================] - 4s 34ms/step - loss: 0.1378 - accuracy: 0.9622 - val_loss: 0.6385 - val_accuracy: 0.8150\n",
            "Epoch 29/100\n",
            "113/113 [==============================] - 4s 34ms/step - loss: 0.1255 - accuracy: 0.9672 - val_loss: 0.6458 - val_accuracy: 0.8175\n",
            "Epoch 30/100\n",
            "113/113 [==============================] - 4s 34ms/step - loss: 0.1227 - accuracy: 0.9664 - val_loss: 0.6301 - val_accuracy: 0.8275\n",
            "Epoch 31/100\n",
            "113/113 [==============================] - 4s 34ms/step - loss: 0.1144 - accuracy: 0.9700 - val_loss: 0.7752 - val_accuracy: 0.7800\n",
            "Epoch 32/100\n",
            "113/113 [==============================] - 4s 34ms/step - loss: 0.1176 - accuracy: 0.9656 - val_loss: 0.5798 - val_accuracy: 0.8200\n",
            "Epoch 33/100\n",
            "113/113 [==============================] - 4s 34ms/step - loss: 0.1148 - accuracy: 0.9686 - val_loss: 0.5860 - val_accuracy: 0.8200\n",
            "Epoch 34/100\n",
            "113/113 [==============================] - 4s 34ms/step - loss: 0.1049 - accuracy: 0.9725 - val_loss: 0.6094 - val_accuracy: 0.8400\n",
            "Epoch 35/100\n",
            "113/113 [==============================] - 4s 34ms/step - loss: 0.0977 - accuracy: 0.9731 - val_loss: 0.5947 - val_accuracy: 0.8400\n",
            "Epoch 36/100\n",
            "113/113 [==============================] - 4s 34ms/step - loss: 0.0834 - accuracy: 0.9783 - val_loss: 0.5705 - val_accuracy: 0.8350\n",
            "Epoch 37/100\n",
            "113/113 [==============================] - 4s 34ms/step - loss: 0.0786 - accuracy: 0.9794 - val_loss: 0.6769 - val_accuracy: 0.8150\n",
            "Epoch 38/100\n",
            "113/113 [==============================] - 4s 34ms/step - loss: 0.0809 - accuracy: 0.9803 - val_loss: 0.6232 - val_accuracy: 0.8300\n",
            "Epoch 39/100\n",
            "113/113 [==============================] - 4s 34ms/step - loss: 0.0908 - accuracy: 0.9747 - val_loss: 0.6414 - val_accuracy: 0.8200\n",
            "Epoch 40/100\n",
            "113/113 [==============================] - 4s 34ms/step - loss: 0.0684 - accuracy: 0.9831 - val_loss: 0.5901 - val_accuracy: 0.8350\n",
            "Epoch 41/100\n",
            "113/113 [==============================] - 4s 34ms/step - loss: 0.0822 - accuracy: 0.9781 - val_loss: 0.8283 - val_accuracy: 0.7675\n",
            "Epoch 42/100\n",
            "113/113 [==============================] - 4s 34ms/step - loss: 0.0639 - accuracy: 0.9817 - val_loss: 0.5756 - val_accuracy: 0.8375\n",
            "Epoch 43/100\n",
            "113/113 [==============================] - 4s 34ms/step - loss: 0.0651 - accuracy: 0.9831 - val_loss: 0.5871 - val_accuracy: 0.8450\n",
            "113/113 [==============================] - 1s 11ms/step - loss: 0.0035 - accuracy: 1.0000\n",
            "13/13 [==============================] - 0s 11ms/step - loss: 0.5871 - accuracy: 0.8450\n"
          ],
          "name": "stdout"
        },
        {
          "output_type": "display_data",
          "data": {
            "image/png": "[encoded data removed]",
            "text/plain": [
              "<Figure size 432x288 with 1 Axes>"
            ]
          },
          "metadata": {
            "tags": [],
            "needs_background": "light"
          }
        },
        {
          "output_type": "display_data",
          "data": {
            "image/png": "[encoded data removed]",
            "text/plain": [
              "<Figure size 432x288 with 1 Axes>"
            ]
          },
          "metadata": {
            "tags": [],
            "needs_background": "light"
          }
        }
      ]
    },
    {
      "cell_type": "markdown",
      "metadata": {
        "id": "3cmWVjY1yRKb"
      },
      "source": [
        "**Audio Data Preprocessing**"
      ]
    },
    {
      "cell_type": "code",
      "metadata": {
        "colab": {
          "base_uri": "https://localhost:8080/"
        },
        "id": "yC4co9UQwK5L",
        "outputId": "e5504f1d-e491-4d27-98e5-24e9589d2353"
      },
      "source": [
        "import librosa\r\n",
        "import librosa.display\r\n",
        "import keras.utils as ut\r\n",
        "import IPython.display as ipd\r\n",
        "import skimage.io\r\n",
        "import time\r\n",
        "\r\n",
        "\r\n",
        "def scale_minmax(X, min=0.0, max=1.0):\r\n",
        "    X_std = (X - X.min()) / (X.max() - X.min())\r\n",
        "    X_scaled = X_std * (max - min) + min\r\n",
        "    return X_scaled\r\n",
        "\r\n",
        "\r\n",
        "def windows(data, window_size):\r\n",
        "    start = 0\r\n",
        "    while start < len(data):\r\n",
        "        yield start, start + window_size\r\n",
        "        start += int(window_size / 2)\r\n",
        "\r\n",
        "\r\n",
        "def getAudioData(parentDir, subDirs, bands=128, audiosPerLabel=100, totalLabels=20):\r\n",
        "    window_size = 512 * 127\r\n",
        "    data = []\r\n",
        "    labels = []\r\n",
        "    total_ids = 0\r\n",
        "    for subDir in subDirs:\r\n",
        "        pDir = os.path.join(parentDir, subDir[0])\r\n",
        "        audio_per_person = 0\r\n",
        "        for fn in glob.glob(os.path.join(pDir, \"*/*.wav\")):\r\n",
        "            sound_clip, s = librosa.load(fn)\r\n",
        "            for (start, end) in windows(sound_clip, window_size):\r\n",
        "                if len(sound_clip[start:end]) == window_size:\r\n",
        "                    signal = sound_clip[start:end]\r\n",
        "                    melspec = librosa.feature.melspectrogram(signal, n_mels=bands)\r\n",
        "                    logspec = np.log(melspec + 1e-9)\r\n",
        "                    img = scale_minmax(logspec, 0, 255).astype(np.uint8)\r\n",
        "                    img = np.flip(img, axis=0)\r\n",
        "                    img = 255 - img\r\n",
        "                    data.append(img)\r\n",
        "                    labels.append(total_ids)\r\n",
        "                    audio_per_person += 1\r\n",
        "                    # skimage.io.imsave(fn[start:(len(fn) - 4)] + \".png\", img)\r\n",
        "                    if audio_per_person >= audiosPerLabel:\r\n",
        "                        break\r\n",
        "            if audio_per_person >= audiosPerLabel:\r\n",
        "                break\r\n",
        "        print(total_ids, ') ', subDir[0], ' : ', audio_per_person)\r\n",
        "        total_ids += 1\r\n",
        "        if total_ids >= totalLabels:\r\n",
        "            break\r\n",
        "\r\n",
        "    features = np.array(data)\r\n",
        "    features = features.reshape((len(data), 128, 128, 1))\r\n",
        "    labels = tf.keras.utils.to_categorical(labels)\r\n",
        "    return features, labels\r\n",
        "\r\n",
        "\r\n",
        "audio_data, audio_labels = getAudioData(audio_data_path, all_names, totalLabels=len(all_names))\r\n",
        "print(audio_data.shape, audio_labels.shape)\r\n",
        "\r\n",
        "# trainX, trainY, testX, testY = getAllData(data, labels)\r\n"
      ],
      "execution_count": null,
      "outputs": [
        {
          "output_type": "stream",
          "text": [
            "0 )  id10279  :  100\n",
            "1 )  id10285  :  100\n",
            "2 )  id10276  :  100\n",
            "3 )  id10299  :  100\n",
            "4 )  id10288  :  100\n",
            "5 )  id10283  :  100\n",
            "6 )  id10286  :  100\n",
            "7 )  id10305  :  100\n",
            "8 )  id10274  :  100\n",
            "9 )  id10296  :  100\n",
            "10 )  id10291  :  100\n",
            "11 )  id10281  :  100\n",
            "12 )  id10287  :  100\n",
            "13 )  id10301  :  100\n",
            "14 )  id10293  :  100\n",
            "15 )  id10292  :  100\n",
            "16 )  id10277  :  100\n",
            "17 )  id10275  :  100\n",
            "18 )  id10308  :  100\n",
            "19 )  id10278  :  100\n",
            "20 )  id10289  :  100\n",
            "21 )  id10272  :  100\n",
            "22 )  id10303  :  100\n",
            "23 )  id10302  :  100\n",
            "24 )  id10280  :  100\n",
            "25 )  id10271  :  100\n",
            "26 )  id10307  :  100\n",
            "27 )  id10295  :  100\n",
            "28 )  id10273  :  100\n",
            "29 )  id10309  :  100\n",
            "30 )  id10300  :  100\n",
            "31 )  id10298  :  100\n",
            "32 )  id10297  :  100\n",
            "33 )  id10282  :  100\n",
            "34 )  id10290  :  100\n",
            "35 )  id10294  :  100\n",
            "36 )  id10284  :  100\n",
            "37 )  id10306  :  100\n",
            "38 )  id10304  :  100\n",
            "39 )  id10270  :  100\n",
            "(4000, 128, 128, 1) (4000, 40)\n"
          ],
          "name": "stdout"
        }
      ]
    },
    {
      "cell_type": "code",
      "metadata": {
        "id": "uTZSbN-4rLf0"
      },
      "source": [
        "def runModel(model, patience=5):\r\n",
        "    callback = tf.keras.callbacks.EarlyStopping(monitor='val_loss', patience=patience)\r\n",
        "\r\n",
        "    reset_weights(model)\r\n",
        "    model.evaluate(testX, testY)\r\n",
        "    model.evaluate(trainX, trainY)\r\n",
        "    history = model.fit(trainX, trainY, epochs=2000, batch_size=64, validation_data=(testX, testY), shuffle=True, callbacks=[callback])\r\n",
        "    model.evaluate(trainX, trainY)\r\n",
        "    model.evaluate(testX, testY)\r\n",
        "\r\n",
        "    plt.plot(history.history['accuracy'])\r\n",
        "    plt.plot(history.history['val_accuracy'])\r\n",
        "    plt.title('model accuracy')\r\n",
        "    plt.ylabel('accuracy')\r\n",
        "    plt.xlabel('epoch')\r\n",
        "    plt.legend(['train', 'test'], loc='upper left')\r\n",
        "    plt.show()\r\n",
        "    # summarize history for loss\r\n",
        "    plt.plot(history.history['loss'])\r\n",
        "    plt.plot(history.history['val_loss'])\r\n",
        "    plt.title('model loss')\r\n",
        "    plt.ylabel('loss')\r\n",
        "    plt.xlabel('epoch')\r\n",
        "    plt.legend(['train', 'test'], loc='upper left')\r\n",
        "    plt.show()"
      ],
      "execution_count": null,
      "outputs": []
    },
    {
      "cell_type": "markdown",
      "metadata": {
        "id": "7QZBRaWWtqmh"
      },
      "source": [
        "**Audio Classification Without LSTM**"
      ]
    },
    {
      "cell_type": "code",
      "metadata": {
        "colab": {
          "base_uri": "https://localhost:8080/"
        },
        "id": "oifhfrNv85AI",
        "outputId": "09e8810d-2008-4f43-ee8b-82e70afbdc7d"
      },
      "source": [
        "trainX, trainY, testX, testY = getAllData(audio_data, audio_labels)\r\n",
        "print(\"trainX: \", trainX.shape, \" trainY: \", trainY.shape, \" testX: \", testX.shape, \" testY: \", testY.shape)"
      ],
      "execution_count": null,
      "outputs": [
        {
          "output_type": "stream",
          "text": [
            "trainX:  (3600, 128, 128, 1)  trainY:  (3600, 40)  testX:  (400, 128, 128, 1)  testY:  (400, 40)\n"
          ],
          "name": "stdout"
        }
      ]
    },
    {
      "cell_type": "code",
      "metadata": {
        "id": "QXLWlDVVPrIZ",
        "colab": {
          "base_uri": "https://localhost:8080/"
        },
        "outputId": "fe001e56-422f-42a4-b454-cdeb105bd414"
      },
      "source": [
        "model = tf.keras.Sequential()\r\n",
        "model.add(tf.keras.layers.Input((128, 128, 1)))\r\n",
        "model.add(tf.keras.layers.experimental.preprocessing.Rescaling(1./255))\r\n",
        "model.add(tf.keras.layers.Conv2D(128, (3, 3), activation='relu', kernel_initializer='he_normal', kernel_regularizer=tf.keras.regularizers.l2(0.001)))\r\n",
        "model.add(tf.keras.layers.MaxPool2D())\r\n",
        "model.add(tf.keras.layers.Conv2D(64, (3, 3), activation='relu', kernel_initializer='he_normal', kernel_regularizer=tf.keras.regularizers.l2(0.001)))\r\n",
        "model.add(tf.keras.layers.MaxPool2D())\r\n",
        "model.add(tf.keras.layers.Flatten())\r\n",
        "model.add(tf.keras.layers.Dense(64, activation='relu', kernel_initializer='he_normal', kernel_regularizer=tf.keras.regularizers.l2(0.001)))\r\n",
        "# model.add(tf.keras.layers.Dropout(0.2))\r\n",
        "model.add(tf.keras.layers.Dense(len(trainY[0]), activation='softmax'))\r\n",
        "\r\n",
        "model.compile(optimizer=tf.keras.optimizers.SGD(), loss='categorical_crossentropy', metrics=['accuracy'])\r\n",
        "model.summary()"
      ],
      "execution_count": null,
      "outputs": [
        {
          "output_type": "stream",
          "text": [
            "Model: \"sequential_27\"\n",
            "_________________________________________________________________\n",
            "Layer (type)                 Output Shape              Param #   \n",
            "=================================================================\n",
            "rescaling_22 (Rescaling)     (None, 128, 128, 1)       0         \n",
            "_________________________________________________________________\n",
            "conv2d_29 (Conv2D)           (None, 126, 126, 128)     1280      \n",
            "_________________________________________________________________\n",
            "max_pooling2d_28 (MaxPooling (None, 63, 63, 128)       0         \n",
            "_________________________________________________________________\n",
            "conv2d_30 (Conv2D)           (None, 61, 61, 64)        73792     \n",
            "_________________________________________________________________\n",
            "max_pooling2d_29 (MaxPooling (None, 30, 30, 64)        0         \n",
            "_________________________________________________________________\n",
            "flatten_14 (Flatten)         (None, 57600)             0         \n",
            "_________________________________________________________________\n",
            "dense_23 (Dense)             (None, 64)                3686464   \n",
            "_________________________________________________________________\n",
            "dense_24 (Dense)             (None, 40)                2600      \n",
            "=================================================================\n",
            "Total params: 3,764,136\n",
            "Trainable params: 3,764,136\n",
            "Non-trainable params: 0\n",
            "_________________________________________________________________\n"
          ],
          "name": "stdout"
        }
      ]
    },
    {
      "cell_type": "code",
      "metadata": {
        "colab": {
          "base_uri": "https://localhost:8080/",
          "height": 1000
        },
        "id": "3S4sw725t-r2",
        "outputId": "8f2ea464-239e-4178-8b71-81cb8a318f70"
      },
      "source": [
        "runModel(model)"
      ],
      "execution_count": null,
      "outputs": [
        {
          "output_type": "stream",
          "text": [
            "13/13 [==============================] - 0s 15ms/step - loss: 4.3290 - accuracy: 0.0396\n",
            "113/113 [==============================] - 2s 14ms/step - loss: 4.3823 - accuracy: 0.0200\n",
            "Epoch 1/2000\n",
            "57/57 [==============================] - 4s 69ms/step - loss: 4.2202 - accuracy: 0.0383 - val_loss: 4.1723 - val_accuracy: 0.0575\n",
            "Epoch 2/2000\n",
            "57/57 [==============================] - 4s 69ms/step - loss: 4.1539 - accuracy: 0.0556 - val_loss: 4.1518 - val_accuracy: 0.0500\n",
            "Epoch 3/2000\n",
            "57/57 [==============================] - 4s 69ms/step - loss: 4.1212 - accuracy: 0.0606 - val_loss: 4.1166 - val_accuracy: 0.0750\n",
            "Epoch 4/2000\n",
            "57/57 [==============================] - 4s 69ms/step - loss: 4.0658 - accuracy: 0.0956 - val_loss: 4.0468 - val_accuracy: 0.0625\n",
            "Epoch 5/2000\n",
            "57/57 [==============================] - 4s 72ms/step - loss: 3.9741 - accuracy: 0.1208 - val_loss: 3.9835 - val_accuracy: 0.1075\n",
            "Epoch 6/2000\n",
            "57/57 [==============================] - 4s 69ms/step - loss: 3.8282 - accuracy: 0.1608 - val_loss: 4.0190 - val_accuracy: 0.0650\n",
            "Epoch 7/2000\n",
            "57/57 [==============================] - 4s 69ms/step - loss: 3.6102 - accuracy: 0.2172 - val_loss: 3.6486 - val_accuracy: 0.1725\n",
            "Epoch 8/2000\n",
            "57/57 [==============================] - 4s 69ms/step - loss: 3.2777 - accuracy: 0.3003 - val_loss: 3.5642 - val_accuracy: 0.1450\n",
            "Epoch 9/2000\n",
            "57/57 [==============================] - 4s 69ms/step - loss: 2.9294 - accuracy: 0.3831 - val_loss: 3.1564 - val_accuracy: 0.2575\n",
            "Epoch 10/2000\n",
            "57/57 [==============================] - 4s 69ms/step - loss: 2.5389 - accuracy: 0.4908 - val_loss: 3.2523 - val_accuracy: 0.2200\n",
            "Epoch 11/2000\n",
            "57/57 [==============================] - 4s 69ms/step - loss: 2.1820 - accuracy: 0.5719 - val_loss: 3.0122 - val_accuracy: 0.2850\n",
            "Epoch 12/2000\n",
            "57/57 [==============================] - 4s 69ms/step - loss: 1.8668 - accuracy: 0.6492 - val_loss: 3.1354 - val_accuracy: 0.2750\n",
            "Epoch 13/2000\n",
            "57/57 [==============================] - 4s 69ms/step - loss: 1.6638 - accuracy: 0.6942 - val_loss: 2.0995 - val_accuracy: 0.5550\n",
            "Epoch 14/2000\n",
            "57/57 [==============================] - 4s 69ms/step - loss: 1.4359 - accuracy: 0.7603 - val_loss: 2.1673 - val_accuracy: 0.4825\n",
            "Epoch 15/2000\n",
            "57/57 [==============================] - 4s 69ms/step - loss: 1.2545 - accuracy: 0.8056 - val_loss: 1.8489 - val_accuracy: 0.5950\n",
            "Epoch 16/2000\n",
            "57/57 [==============================] - 4s 69ms/step - loss: 1.1118 - accuracy: 0.8433 - val_loss: 2.0285 - val_accuracy: 0.5050\n",
            "Epoch 17/2000\n",
            "57/57 [==============================] - 4s 69ms/step - loss: 1.0217 - accuracy: 0.8728 - val_loss: 1.8008 - val_accuracy: 0.5900\n",
            "Epoch 18/2000\n",
            "57/57 [==============================] - 4s 69ms/step - loss: 0.9425 - accuracy: 0.8925 - val_loss: 1.4457 - val_accuracy: 0.7075\n",
            "Epoch 19/2000\n",
            "57/57 [==============================] - 4s 69ms/step - loss: 0.8519 - accuracy: 0.9169 - val_loss: 1.7026 - val_accuracy: 0.6150\n",
            "Epoch 20/2000\n",
            "57/57 [==============================] - 4s 69ms/step - loss: 0.8167 - accuracy: 0.9253 - val_loss: 1.5219 - val_accuracy: 0.6925\n",
            "Epoch 21/2000\n",
            "57/57 [==============================] - 4s 69ms/step - loss: 0.7792 - accuracy: 0.9408 - val_loss: 1.4719 - val_accuracy: 0.7200\n",
            "Epoch 22/2000\n",
            "57/57 [==============================] - 4s 69ms/step - loss: 0.7175 - accuracy: 0.9539 - val_loss: 1.4878 - val_accuracy: 0.7000\n",
            "Epoch 23/2000\n",
            "57/57 [==============================] - 4s 69ms/step - loss: 0.6772 - accuracy: 0.9711 - val_loss: 1.4213 - val_accuracy: 0.7050\n",
            "Epoch 24/2000\n",
            "57/57 [==============================] - 4s 69ms/step - loss: 0.6491 - accuracy: 0.9750 - val_loss: 1.3642 - val_accuracy: 0.7500\n",
            "Epoch 25/2000\n",
            "57/57 [==============================] - 4s 69ms/step - loss: 0.6137 - accuracy: 0.9875 - val_loss: 1.4508 - val_accuracy: 0.7250\n",
            "Epoch 26/2000\n",
            "57/57 [==============================] - 4s 69ms/step - loss: 0.6020 - accuracy: 0.9894 - val_loss: 1.3434 - val_accuracy: 0.7400\n",
            "Epoch 27/2000\n",
            "57/57 [==============================] - 4s 69ms/step - loss: 0.5842 - accuracy: 0.9925 - val_loss: 1.2011 - val_accuracy: 0.7925\n",
            "Epoch 28/2000\n",
            "57/57 [==============================] - 4s 69ms/step - loss: 0.5685 - accuracy: 0.9967 - val_loss: 1.7000 - val_accuracy: 0.6650\n",
            "Epoch 29/2000\n",
            "57/57 [==============================] - 4s 69ms/step - loss: 0.5760 - accuracy: 0.9919 - val_loss: 1.5203 - val_accuracy: 0.7225\n",
            "Epoch 30/2000\n",
            "57/57 [==============================] - 4s 69ms/step - loss: 0.5567 - accuracy: 0.9953 - val_loss: 1.2443 - val_accuracy: 0.7775\n",
            "Epoch 31/2000\n",
            "57/57 [==============================] - 4s 69ms/step - loss: 0.5448 - accuracy: 0.9972 - val_loss: 1.1999 - val_accuracy: 0.7850\n",
            "Epoch 32/2000\n",
            "57/57 [==============================] - 4s 69ms/step - loss: 0.5363 - accuracy: 0.9992 - val_loss: 1.1925 - val_accuracy: 0.7925\n",
            "Epoch 33/2000\n",
            "57/57 [==============================] - 4s 69ms/step - loss: 0.5310 - accuracy: 0.9997 - val_loss: 1.2673 - val_accuracy: 0.7725\n",
            "Epoch 34/2000\n",
            "57/57 [==============================] - 4s 72ms/step - loss: 0.5267 - accuracy: 0.9997 - val_loss: 1.5401 - val_accuracy: 0.7350\n",
            "Epoch 35/2000\n",
            "57/57 [==============================] - 4s 69ms/step - loss: 0.5257 - accuracy: 0.9981 - val_loss: 1.2194 - val_accuracy: 0.7800\n",
            "Epoch 36/2000\n",
            "57/57 [==============================] - 4s 69ms/step - loss: 0.5185 - accuracy: 1.0000 - val_loss: 1.2446 - val_accuracy: 0.7675\n",
            "Epoch 37/2000\n",
            "57/57 [==============================] - 4s 69ms/step - loss: 0.5162 - accuracy: 1.0000 - val_loss: 1.2100 - val_accuracy: 0.7900\n",
            "113/113 [==============================] - 2s 14ms/step - loss: 0.5159 - accuracy: 1.0000\n",
            "13/13 [==============================] - 0s 14ms/step - loss: 1.2100 - accuracy: 0.7900\n"
          ],
          "name": "stdout"
        },
        {
          "output_type": "display_data",
          "data": {
            "image/png": "[encoded data removed]",
            "text/plain": [
              "<Figure size 432x288 with 1 Axes>"
            ]
          },
          "metadata": {
            "tags": [],
            "needs_background": "light"
          }
        },
        {
          "output_type": "display_data",
          "data": {
            "image/png": "[encoded data removed]",
            "text/plain": [
              "<Figure size 432x288 with 1 Axes>"
            ]
          },
          "metadata": {
            "tags": [],
            "needs_background": "light"
          }
        }
      ]
    },
    {
      "cell_type": "markdown",
      "metadata": {
        "id": "Wqupe4gUuhIn"
      },
      "source": [
        "**Audio Classification with LSTM**"
      ]
    },
    {
      "cell_type": "code",
      "metadata": {
        "colab": {
          "base_uri": "https://localhost:8080/"
        },
        "id": "NGdh7Klku2iZ",
        "outputId": "54ef441c-2d9d-47b3-fd4a-55b35eed60de"
      },
      "source": [
        "audio_data = audio_data.reshape(len(audio_data), 128, 128)\r\n",
        "print(audio_data.shape)"
      ],
      "execution_count": null,
      "outputs": [
        {
          "output_type": "stream",
          "text": [
            "(4000, 128, 128)\n"
          ],
          "name": "stdout"
        }
      ]
    },
    {
      "cell_type": "code",
      "metadata": {
        "colab": {
          "base_uri": "https://localhost:8080/"
        },
        "id": "ORZFk9BzvC8Y",
        "outputId": "ac64f4ba-06ca-48bb-ea8d-fdddcb7da2b4"
      },
      "source": [
        "trainX, trainY, testX, testY = getAllData(audio_data, audio_labels)\r\n",
        "print(\"trainX: \", trainX.shape, \" trainY: \", trainY.shape, \" testX: \", testX.shape, \" testY: \", testY.shape)"
      ],
      "execution_count": null,
      "outputs": [
        {
          "output_type": "stream",
          "text": [
            "trainX:  (3600, 128, 128)  trainY:  (3600, 40)  testX:  (400, 128, 128)  testY:  (400, 40)\n"
          ],
          "name": "stdout"
        }
      ]
    },
    {
      "cell_type": "code",
      "metadata": {
        "colab": {
          "base_uri": "https://localhost:8080/"
        },
        "id": "STKDaBP2uoGI",
        "outputId": "ecd27a26-c427-423b-89f0-a02b58168bc6"
      },
      "source": [
        "model = tf.keras.Sequential()\r\n",
        "model.add(tf.keras.layers.Input((None, 128)))\r\n",
        "model.add(tf.keras.layers.experimental.preprocessing.Rescaling(1./255))\r\n",
        "model.add(tf.keras.layers.Conv1D(64, 5, activation='relu', kernel_initializer='he_normal', kernel_regularizer=tf.keras.regularizers.l2(0.001)))\r\n",
        "model.add(tf.keras.layers.MaxPool1D())\r\n",
        "model.add(tf.keras.layers.Conv1D(128, 5, activation='relu', kernel_initializer='he_normal', kernel_regularizer=tf.keras.regularizers.l2(0.001)))\r\n",
        "model.add(tf.keras.layers.MaxPool1D())\r\n",
        "model.add(tf.keras.layers.LSTM(64))\r\n",
        "model.add(tf.keras.layers.Dense(64, activation='relu', kernel_initializer='he_normal', kernel_regularizer=tf.keras.regularizers.l2(0.001)))\r\n",
        "# model.add(tf.keras.layers.Dropout(0.25))\r\n",
        "model.add(tf.keras.layers.Dense(len(trainY[0]), activation='softmax'))\r\n",
        "\r\n",
        "model.compile(optimizer=tf.keras.optimizers.SGD(), loss='categorical_crossentropy', metrics=['accuracy'])\r\n",
        "model.summary()"
      ],
      "execution_count": null,
      "outputs": [
        {
          "output_type": "stream",
          "text": [
            "Model: \"sequential_28\"\n",
            "_________________________________________________________________\n",
            "Layer (type)                 Output Shape              Param #   \n",
            "=================================================================\n",
            "rescaling_23 (Rescaling)     (None, None, 128)         0         \n",
            "_________________________________________________________________\n",
            "conv1d_13 (Conv1D)           (None, None, 64)          41024     \n",
            "_________________________________________________________________\n",
            "max_pooling1d_13 (MaxPooling (None, None, 64)          0         \n",
            "_________________________________________________________________\n",
            "conv1d_14 (Conv1D)           (None, None, 128)         41088     \n",
            "_________________________________________________________________\n",
            "max_pooling1d_14 (MaxPooling (None, None, 128)         0         \n",
            "_________________________________________________________________\n",
            "lstm_6 (LSTM)                (None, 64)                49408     \n",
            "_________________________________________________________________\n",
            "dense_25 (Dense)             (None, 64)                4160      \n",
            "_________________________________________________________________\n",
            "dense_26 (Dense)             (None, 40)                2600      \n",
            "=================================================================\n",
            "Total params: 138,280\n",
            "Trainable params: 138,280\n",
            "Non-trainable params: 0\n",
            "_________________________________________________________________\n"
          ],
          "name": "stdout"
        }
      ]
    },
    {
      "cell_type": "code",
      "metadata": {
        "colab": {
          "base_uri": "https://localhost:8080/",
          "height": 1000
        },
        "id": "8kcJURIhxBiA",
        "outputId": "547acd73-cdd8-4474-e3c6-3837055d3486"
      },
      "source": [
        "runModel(model, patience=15)"
      ],
      "execution_count": null,
      "outputs": [
        {
          "output_type": "stream",
          "text": [
            "13/13 [==============================] - 0s 4ms/step - loss: 4.2205 - accuracy: 0.0200\n",
            "113/113 [==============================] - 0s 4ms/step - loss: 4.2191 - accuracy: 0.0250\n",
            "Epoch 1/2000\n",
            "57/57 [==============================] - 0s 8ms/step - loss: 4.2077 - accuracy: 0.0233 - val_loss: 4.2051 - val_accuracy: 0.0175\n",
            "Epoch 2/2000\n",
            "57/57 [==============================] - 0s 6ms/step - loss: 4.1997 - accuracy: 0.0258 - val_loss: 4.2005 - val_accuracy: 0.0250\n",
            "Epoch 3/2000\n",
            "57/57 [==============================] - 0s 6ms/step - loss: 4.1962 - accuracy: 0.0300 - val_loss: 4.1973 - val_accuracy: 0.0275\n",
            "Epoch 4/2000\n",
            "57/57 [==============================] - 0s 6ms/step - loss: 4.1938 - accuracy: 0.0300 - val_loss: 4.1963 - val_accuracy: 0.0225\n",
            "Epoch 5/2000\n",
            "57/57 [==============================] - 0s 6ms/step - loss: 4.1914 - accuracy: 0.0253 - val_loss: 4.1925 - val_accuracy: 0.0175\n",
            "Epoch 6/2000\n",
            "57/57 [==============================] - 0s 6ms/step - loss: 4.1894 - accuracy: 0.0297 - val_loss: 4.1928 - val_accuracy: 0.0250\n",
            "Epoch 7/2000\n",
            "57/57 [==============================] - 0s 6ms/step - loss: 4.1871 - accuracy: 0.0306 - val_loss: 4.1910 - val_accuracy: 0.0200\n",
            "Epoch 8/2000\n",
            "57/57 [==============================] - 0s 6ms/step - loss: 4.1849 - accuracy: 0.0303 - val_loss: 4.1897 - val_accuracy: 0.0225\n",
            "Epoch 9/2000\n",
            "57/57 [==============================] - 0s 6ms/step - loss: 4.1831 - accuracy: 0.0294 - val_loss: 4.1869 - val_accuracy: 0.0200\n",
            "Epoch 10/2000\n",
            "57/57 [==============================] - 0s 6ms/step - loss: 4.1810 - accuracy: 0.0278 - val_loss: 4.1840 - val_accuracy: 0.0225\n",
            "Epoch 11/2000\n",
            "57/57 [==============================] - 0s 6ms/step - loss: 4.1789 - accuracy: 0.0300 - val_loss: 4.1856 - val_accuracy: 0.0200\n",
            "Epoch 12/2000\n",
            "57/57 [==============================] - 1s 9ms/step - loss: 4.1767 - accuracy: 0.0300 - val_loss: 4.1810 - val_accuracy: 0.0325\n",
            "Epoch 13/2000\n",
            "57/57 [==============================] - 0s 6ms/step - loss: 4.1743 - accuracy: 0.0272 - val_loss: 4.1810 - val_accuracy: 0.0150\n",
            "Epoch 14/2000\n",
            "57/57 [==============================] - 0s 6ms/step - loss: 4.1721 - accuracy: 0.0325 - val_loss: 4.1761 - val_accuracy: 0.0225\n",
            "Epoch 15/2000\n",
            "57/57 [==============================] - 0s 6ms/step - loss: 4.1698 - accuracy: 0.0333 - val_loss: 4.1742 - val_accuracy: 0.0300\n",
            "Epoch 16/2000\n",
            "57/57 [==============================] - 0s 7ms/step - loss: 4.1678 - accuracy: 0.0269 - val_loss: 4.1723 - val_accuracy: 0.0275\n",
            "Epoch 17/2000\n",
            "57/57 [==============================] - 0s 6ms/step - loss: 4.1652 - accuracy: 0.0342 - val_loss: 4.1722 - val_accuracy: 0.0225\n",
            "Epoch 18/2000\n",
            "57/57 [==============================] - 0s 6ms/step - loss: 4.1628 - accuracy: 0.0400 - val_loss: 4.1690 - val_accuracy: 0.0325\n",
            "Epoch 19/2000\n",
            "57/57 [==============================] - 0s 6ms/step - loss: 4.1604 - accuracy: 0.0400 - val_loss: 4.1658 - val_accuracy: 0.0275\n",
            "Epoch 20/2000\n",
            "57/57 [==============================] - 0s 6ms/step - loss: 4.1579 - accuracy: 0.0325 - val_loss: 4.1647 - val_accuracy: 0.0325\n",
            "Epoch 21/2000\n",
            "57/57 [==============================] - 0s 6ms/step - loss: 4.1549 - accuracy: 0.0386 - val_loss: 4.1628 - val_accuracy: 0.0450\n",
            "Epoch 22/2000\n",
            "57/57 [==============================] - 0s 6ms/step - loss: 4.1522 - accuracy: 0.0383 - val_loss: 4.1578 - val_accuracy: 0.0400\n",
            "Epoch 23/2000\n",
            "57/57 [==============================] - 0s 6ms/step - loss: 4.1491 - accuracy: 0.0503 - val_loss: 4.1571 - val_accuracy: 0.0300\n",
            "Epoch 24/2000\n",
            "57/57 [==============================] - 0s 6ms/step - loss: 4.1455 - accuracy: 0.0447 - val_loss: 4.1558 - val_accuracy: 0.0400\n",
            "Epoch 25/2000\n",
            "57/57 [==============================] - 0s 7ms/step - loss: 4.1424 - accuracy: 0.0506 - val_loss: 4.1517 - val_accuracy: 0.0400\n",
            "Epoch 26/2000\n",
            "57/57 [==============================] - 0s 7ms/step - loss: 4.1390 - accuracy: 0.0514 - val_loss: 4.1491 - val_accuracy: 0.0225\n",
            "Epoch 27/2000\n",
            "57/57 [==============================] - 0s 7ms/step - loss: 4.1345 - accuracy: 0.0547 - val_loss: 4.1444 - val_accuracy: 0.0425\n",
            "Epoch 28/2000\n",
            "57/57 [==============================] - 0s 6ms/step - loss: 4.1306 - accuracy: 0.0528 - val_loss: 4.1401 - val_accuracy: 0.0375\n",
            "Epoch 29/2000\n",
            "57/57 [==============================] - 0s 6ms/step - loss: 4.1258 - accuracy: 0.0586 - val_loss: 4.1304 - val_accuracy: 0.0350\n",
            "Epoch 30/2000\n",
            "57/57 [==============================] - 0s 7ms/step - loss: 4.1206 - accuracy: 0.0511 - val_loss: 4.1339 - val_accuracy: 0.0600\n",
            "Epoch 31/2000\n",
            "57/57 [==============================] - 0s 6ms/step - loss: 4.1132 - accuracy: 0.0614 - val_loss: 4.1252 - val_accuracy: 0.0425\n",
            "Epoch 32/2000\n",
            "57/57 [==============================] - 0s 6ms/step - loss: 4.1064 - accuracy: 0.0619 - val_loss: 4.1107 - val_accuracy: 0.0475\n",
            "Epoch 33/2000\n",
            "57/57 [==============================] - 0s 6ms/step - loss: 4.0982 - accuracy: 0.0694 - val_loss: 4.1180 - val_accuracy: 0.0500\n",
            "Epoch 34/2000\n",
            "57/57 [==============================] - 0s 6ms/step - loss: 4.0911 - accuracy: 0.0711 - val_loss: 4.1126 - val_accuracy: 0.0550\n",
            "Epoch 35/2000\n",
            "57/57 [==============================] - 0s 6ms/step - loss: 4.0823 - accuracy: 0.0636 - val_loss: 4.0962 - val_accuracy: 0.0450\n",
            "Epoch 36/2000\n",
            "57/57 [==============================] - 1s 9ms/step - loss: 4.0726 - accuracy: 0.0642 - val_loss: 4.0874 - val_accuracy: 0.0425\n",
            "Epoch 37/2000\n",
            "57/57 [==============================] - 0s 6ms/step - loss: 4.0628 - accuracy: 0.0678 - val_loss: 4.0993 - val_accuracy: 0.0675\n",
            "Epoch 38/2000\n",
            "57/57 [==============================] - 0s 7ms/step - loss: 4.0503 - accuracy: 0.0675 - val_loss: 4.0892 - val_accuracy: 0.0550\n",
            "Epoch 39/2000\n",
            "57/57 [==============================] - 0s 7ms/step - loss: 4.0376 - accuracy: 0.0714 - val_loss: 4.1166 - val_accuracy: 0.0200\n",
            "Epoch 40/2000\n",
            "57/57 [==============================] - 0s 6ms/step - loss: 4.0294 - accuracy: 0.0628 - val_loss: 4.0257 - val_accuracy: 0.0500\n",
            "Epoch 41/2000\n",
            "57/57 [==============================] - 0s 6ms/step - loss: 4.0112 - accuracy: 0.0786 - val_loss: 4.0257 - val_accuracy: 0.0525\n",
            "Epoch 42/2000\n",
            "57/57 [==============================] - 0s 6ms/step - loss: 3.9926 - accuracy: 0.0742 - val_loss: 3.9970 - val_accuracy: 0.0550\n",
            "Epoch 43/2000\n",
            "57/57 [==============================] - 0s 6ms/step - loss: 3.9862 - accuracy: 0.0814 - val_loss: 4.0396 - val_accuracy: 0.0400\n",
            "Epoch 44/2000\n",
            "57/57 [==============================] - 0s 6ms/step - loss: 3.9594 - accuracy: 0.0897 - val_loss: 4.0146 - val_accuracy: 0.0600\n",
            "Epoch 45/2000\n",
            "57/57 [==============================] - 0s 6ms/step - loss: 3.9381 - accuracy: 0.0897 - val_loss: 3.9503 - val_accuracy: 0.0525\n",
            "Epoch 46/2000\n",
            "57/57 [==============================] - 0s 6ms/step - loss: 3.9149 - accuracy: 0.0956 - val_loss: 4.0147 - val_accuracy: 0.0550\n",
            "Epoch 47/2000\n",
            "57/57 [==============================] - 0s 6ms/step - loss: 3.9080 - accuracy: 0.0919 - val_loss: 3.9003 - val_accuracy: 0.0700\n",
            "Epoch 48/2000\n",
            "57/57 [==============================] - 0s 6ms/step - loss: 3.8661 - accuracy: 0.1033 - val_loss: 4.0300 - val_accuracy: 0.0475\n",
            "Epoch 49/2000\n",
            "57/57 [==============================] - 0s 6ms/step - loss: 3.8382 - accuracy: 0.1167 - val_loss: 3.8746 - val_accuracy: 0.0750\n",
            "Epoch 50/2000\n",
            "57/57 [==============================] - 0s 6ms/step - loss: 3.8136 - accuracy: 0.1236 - val_loss: 3.8204 - val_accuracy: 0.0975\n",
            "Epoch 51/2000\n",
            "57/57 [==============================] - 0s 6ms/step - loss: 3.7822 - accuracy: 0.1289 - val_loss: 3.9775 - val_accuracy: 0.0625\n",
            "Epoch 52/2000\n",
            "57/57 [==============================] - 0s 7ms/step - loss: 3.7564 - accuracy: 0.1339 - val_loss: 3.7921 - val_accuracy: 0.1175\n",
            "Epoch 53/2000\n",
            "57/57 [==============================] - 0s 6ms/step - loss: 3.7281 - accuracy: 0.1444 - val_loss: 3.8389 - val_accuracy: 0.0800\n",
            "Epoch 54/2000\n",
            "57/57 [==============================] - 0s 7ms/step - loss: 3.6833 - accuracy: 0.1556 - val_loss: 3.9231 - val_accuracy: 0.0775\n",
            "Epoch 55/2000\n",
            "57/57 [==============================] - 0s 6ms/step - loss: 3.6499 - accuracy: 0.1658 - val_loss: 3.6159 - val_accuracy: 0.1875\n",
            "Epoch 56/2000\n",
            "57/57 [==============================] - 0s 6ms/step - loss: 3.6060 - accuracy: 0.1700 - val_loss: 3.6794 - val_accuracy: 0.0825\n",
            "Epoch 57/2000\n",
            "57/57 [==============================] - 0s 7ms/step - loss: 3.5722 - accuracy: 0.1681 - val_loss: 3.8145 - val_accuracy: 0.0750\n",
            "Epoch 58/2000\n",
            "57/57 [==============================] - 0s 6ms/step - loss: 3.5494 - accuracy: 0.1861 - val_loss: 3.5335 - val_accuracy: 0.1775\n",
            "Epoch 59/2000\n",
            "57/57 [==============================] - 0s 6ms/step - loss: 3.5046 - accuracy: 0.1942 - val_loss: 3.4250 - val_accuracy: 0.2175\n",
            "Epoch 60/2000\n",
            "57/57 [==============================] - 1s 9ms/step - loss: 3.4473 - accuracy: 0.2106 - val_loss: 3.5001 - val_accuracy: 0.1325\n",
            "Epoch 61/2000\n",
            "57/57 [==============================] - 0s 6ms/step - loss: 3.4089 - accuracy: 0.2111 - val_loss: 3.5275 - val_accuracy: 0.1400\n",
            "Epoch 62/2000\n",
            "57/57 [==============================] - 0s 7ms/step - loss: 3.3925 - accuracy: 0.2178 - val_loss: 3.8029 - val_accuracy: 0.0900\n",
            "Epoch 63/2000\n",
            "57/57 [==============================] - 0s 6ms/step - loss: 3.3749 - accuracy: 0.2075 - val_loss: 3.4700 - val_accuracy: 0.1425\n",
            "Epoch 64/2000\n",
            "57/57 [==============================] - 0s 6ms/step - loss: 3.3336 - accuracy: 0.2294 - val_loss: 3.3634 - val_accuracy: 0.1900\n",
            "Epoch 65/2000\n",
            "57/57 [==============================] - 0s 6ms/step - loss: 3.2626 - accuracy: 0.2444 - val_loss: 3.3010 - val_accuracy: 0.2000\n",
            "Epoch 66/2000\n",
            "57/57 [==============================] - 0s 6ms/step - loss: 3.2545 - accuracy: 0.2386 - val_loss: 3.2781 - val_accuracy: 0.2175\n",
            "Epoch 67/2000\n",
            "57/57 [==============================] - 0s 6ms/step - loss: 3.2174 - accuracy: 0.2572 - val_loss: 3.3758 - val_accuracy: 0.1725\n",
            "Epoch 68/2000\n",
            "57/57 [==============================] - 0s 7ms/step - loss: 3.1763 - accuracy: 0.2722 - val_loss: 3.1564 - val_accuracy: 0.2675\n",
            "Epoch 69/2000\n",
            "57/57 [==============================] - 0s 6ms/step - loss: 3.1446 - accuracy: 0.2675 - val_loss: 3.2163 - val_accuracy: 0.2150\n",
            "Epoch 70/2000\n",
            "57/57 [==============================] - 0s 7ms/step - loss: 3.0992 - accuracy: 0.2831 - val_loss: 3.2070 - val_accuracy: 0.2525\n",
            "Epoch 71/2000\n",
            "57/57 [==============================] - 0s 6ms/step - loss: 3.0746 - accuracy: 0.2858 - val_loss: 3.0982 - val_accuracy: 0.2700\n",
            "Epoch 72/2000\n",
            "57/57 [==============================] - 0s 6ms/step - loss: 3.0500 - accuracy: 0.2989 - val_loss: 3.2741 - val_accuracy: 0.1675\n",
            "Epoch 73/2000\n",
            "57/57 [==============================] - 0s 7ms/step - loss: 3.0325 - accuracy: 0.2986 - val_loss: 3.0892 - val_accuracy: 0.2550\n",
            "Epoch 74/2000\n",
            "57/57 [==============================] - 0s 6ms/step - loss: 2.9786 - accuracy: 0.3092 - val_loss: 3.0625 - val_accuracy: 0.2350\n",
            "Epoch 75/2000\n",
            "57/57 [==============================] - 0s 6ms/step - loss: 2.9482 - accuracy: 0.3253 - val_loss: 2.8831 - val_accuracy: 0.3425\n",
            "Epoch 76/2000\n",
            "57/57 [==============================] - 0s 7ms/step - loss: 2.9138 - accuracy: 0.3308 - val_loss: 3.0219 - val_accuracy: 0.3100\n",
            "Epoch 77/2000\n",
            "57/57 [==============================] - 0s 7ms/step - loss: 2.9046 - accuracy: 0.3333 - val_loss: 2.8604 - val_accuracy: 0.3225\n",
            "Epoch 78/2000\n",
            "57/57 [==============================] - 0s 7ms/step - loss: 2.8498 - accuracy: 0.3444 - val_loss: 2.8023 - val_accuracy: 0.3775\n",
            "Epoch 79/2000\n",
            "57/57 [==============================] - 0s 6ms/step - loss: 2.8196 - accuracy: 0.3503 - val_loss: 2.8005 - val_accuracy: 0.3875\n",
            "Epoch 80/2000\n",
            "57/57 [==============================] - 0s 7ms/step - loss: 2.7953 - accuracy: 0.3603 - val_loss: 2.8494 - val_accuracy: 0.3625\n",
            "Epoch 81/2000\n",
            "57/57 [==============================] - 0s 7ms/step - loss: 2.7506 - accuracy: 0.3619 - val_loss: 2.8511 - val_accuracy: 0.3275\n",
            "Epoch 82/2000\n",
            "57/57 [==============================] - 0s 6ms/step - loss: 2.7253 - accuracy: 0.3858 - val_loss: 2.7851 - val_accuracy: 0.3275\n",
            "Epoch 83/2000\n",
            "57/57 [==============================] - 0s 6ms/step - loss: 2.6872 - accuracy: 0.3917 - val_loss: 3.0460 - val_accuracy: 0.2475\n",
            "Epoch 84/2000\n",
            "57/57 [==============================] - 1s 9ms/step - loss: 2.6934 - accuracy: 0.3786 - val_loss: 2.7557 - val_accuracy: 0.3500\n",
            "Epoch 85/2000\n",
            "57/57 [==============================] - 0s 6ms/step - loss: 2.6271 - accuracy: 0.4011 - val_loss: 3.1131 - val_accuracy: 0.2375\n",
            "Epoch 86/2000\n",
            "57/57 [==============================] - 0s 7ms/step - loss: 2.6188 - accuracy: 0.4097 - val_loss: 2.6934 - val_accuracy: 0.3550\n",
            "Epoch 87/2000\n",
            "57/57 [==============================] - 0s 6ms/step - loss: 2.5774 - accuracy: 0.4150 - val_loss: 2.7219 - val_accuracy: 0.3350\n",
            "Epoch 88/2000\n",
            "57/57 [==============================] - 0s 7ms/step - loss: 2.5612 - accuracy: 0.4222 - val_loss: 2.5026 - val_accuracy: 0.4400\n",
            "Epoch 89/2000\n",
            "57/57 [==============================] - 0s 6ms/step - loss: 2.5401 - accuracy: 0.4225 - val_loss: 2.6079 - val_accuracy: 0.3900\n",
            "Epoch 90/2000\n",
            "57/57 [==============================] - 0s 6ms/step - loss: 2.4849 - accuracy: 0.4403 - val_loss: 2.4927 - val_accuracy: 0.4600\n",
            "Epoch 91/2000\n",
            "57/57 [==============================] - 0s 7ms/step - loss: 2.4742 - accuracy: 0.4439 - val_loss: 2.4180 - val_accuracy: 0.4725\n",
            "Epoch 92/2000\n",
            "57/57 [==============================] - 0s 6ms/step - loss: 2.4766 - accuracy: 0.4353 - val_loss: 2.4423 - val_accuracy: 0.4525\n",
            "Epoch 93/2000\n",
            "57/57 [==============================] - 0s 6ms/step - loss: 2.4233 - accuracy: 0.4575 - val_loss: 2.4096 - val_accuracy: 0.4500\n",
            "Epoch 94/2000\n",
            "57/57 [==============================] - 0s 6ms/step - loss: 2.3976 - accuracy: 0.4711 - val_loss: 2.4283 - val_accuracy: 0.4400\n",
            "Epoch 95/2000\n",
            "57/57 [==============================] - 0s 6ms/step - loss: 2.3937 - accuracy: 0.4628 - val_loss: 2.3734 - val_accuracy: 0.4700\n",
            "Epoch 96/2000\n",
            "57/57 [==============================] - 0s 6ms/step - loss: 2.3655 - accuracy: 0.4708 - val_loss: 2.5096 - val_accuracy: 0.4450\n",
            "Epoch 97/2000\n",
            "57/57 [==============================] - 0s 7ms/step - loss: 2.3327 - accuracy: 0.4889 - val_loss: 2.3834 - val_accuracy: 0.4650\n",
            "Epoch 98/2000\n",
            "57/57 [==============================] - 0s 6ms/step - loss: 2.3210 - accuracy: 0.4775 - val_loss: 2.4681 - val_accuracy: 0.4125\n",
            "Epoch 99/2000\n",
            "57/57 [==============================] - 0s 6ms/step - loss: 2.2837 - accuracy: 0.4919 - val_loss: 2.3351 - val_accuracy: 0.4775\n",
            "Epoch 100/2000\n",
            "57/57 [==============================] - 0s 7ms/step - loss: 2.2644 - accuracy: 0.5042 - val_loss: 2.3370 - val_accuracy: 0.4625\n",
            "Epoch 101/2000\n",
            "57/57 [==============================] - 0s 6ms/step - loss: 2.2885 - accuracy: 0.4933 - val_loss: 2.3855 - val_accuracy: 0.4425\n",
            "Epoch 102/2000\n",
            "57/57 [==============================] - 0s 7ms/step - loss: 2.2389 - accuracy: 0.5136 - val_loss: 2.3475 - val_accuracy: 0.4425\n",
            "Epoch 103/2000\n",
            "57/57 [==============================] - 0s 6ms/step - loss: 2.2288 - accuracy: 0.5122 - val_loss: 2.2028 - val_accuracy: 0.5100\n",
            "Epoch 104/2000\n",
            "57/57 [==============================] - 0s 6ms/step - loss: 2.2199 - accuracy: 0.5097 - val_loss: 2.5542 - val_accuracy: 0.3775\n",
            "Epoch 105/2000\n",
            "57/57 [==============================] - 0s 7ms/step - loss: 2.1875 - accuracy: 0.5203 - val_loss: 2.2818 - val_accuracy: 0.4800\n",
            "Epoch 106/2000\n",
            "57/57 [==============================] - 0s 6ms/step - loss: 2.1779 - accuracy: 0.5192 - val_loss: 2.3248 - val_accuracy: 0.4600\n",
            "Epoch 107/2000\n",
            "57/57 [==============================] - 0s 7ms/step - loss: 2.1393 - accuracy: 0.5308 - val_loss: 2.1347 - val_accuracy: 0.5575\n",
            "Epoch 108/2000\n",
            "57/57 [==============================] - 1s 10ms/step - loss: 2.1226 - accuracy: 0.5403 - val_loss: 2.5329 - val_accuracy: 0.3775\n",
            "Epoch 109/2000\n",
            "57/57 [==============================] - 0s 7ms/step - loss: 2.1356 - accuracy: 0.5425 - val_loss: 2.1662 - val_accuracy: 0.5025\n",
            "Epoch 110/2000\n",
            "57/57 [==============================] - 0s 7ms/step - loss: 2.0984 - accuracy: 0.5514 - val_loss: 2.0950 - val_accuracy: 0.5500\n",
            "Epoch 111/2000\n",
            "57/57 [==============================] - 0s 7ms/step - loss: 2.0735 - accuracy: 0.5514 - val_loss: 2.1499 - val_accuracy: 0.5350\n",
            "Epoch 112/2000\n",
            "57/57 [==============================] - 0s 6ms/step - loss: 2.0565 - accuracy: 0.5464 - val_loss: 2.1902 - val_accuracy: 0.5075\n",
            "Epoch 113/2000\n",
            "57/57 [==============================] - 0s 7ms/step - loss: 2.0203 - accuracy: 0.5622 - val_loss: 2.0691 - val_accuracy: 0.5400\n",
            "Epoch 114/2000\n",
            "57/57 [==============================] - 0s 7ms/step - loss: 2.0178 - accuracy: 0.5669 - val_loss: 2.2699 - val_accuracy: 0.4625\n",
            "Epoch 115/2000\n",
            "57/57 [==============================] - 0s 7ms/step - loss: 2.0097 - accuracy: 0.5669 - val_loss: 2.0492 - val_accuracy: 0.5650\n",
            "Epoch 116/2000\n",
            "57/57 [==============================] - 0s 6ms/step - loss: 1.9842 - accuracy: 0.5781 - val_loss: 2.1045 - val_accuracy: 0.5350\n",
            "Epoch 117/2000\n",
            "57/57 [==============================] - 0s 7ms/step - loss: 1.9542 - accuracy: 0.5928 - val_loss: 2.0375 - val_accuracy: 0.5500\n",
            "Epoch 118/2000\n",
            "57/57 [==============================] - 0s 7ms/step - loss: 1.9756 - accuracy: 0.5783 - val_loss: 2.0896 - val_accuracy: 0.5125\n",
            "Epoch 119/2000\n",
            "57/57 [==============================] - 0s 7ms/step - loss: 1.9432 - accuracy: 0.5825 - val_loss: 2.3193 - val_accuracy: 0.4425\n",
            "Epoch 120/2000\n",
            "57/57 [==============================] - 0s 7ms/step - loss: 1.9286 - accuracy: 0.5950 - val_loss: 2.1157 - val_accuracy: 0.5000\n",
            "Epoch 121/2000\n",
            "57/57 [==============================] - 0s 7ms/step - loss: 1.9174 - accuracy: 0.5967 - val_loss: 1.9886 - val_accuracy: 0.5750\n",
            "Epoch 122/2000\n",
            "57/57 [==============================] - 0s 7ms/step - loss: 1.8990 - accuracy: 0.5969 - val_loss: 2.8313 - val_accuracy: 0.3725\n",
            "Epoch 123/2000\n",
            "57/57 [==============================] - 0s 7ms/step - loss: 1.9108 - accuracy: 0.5914 - val_loss: 2.0577 - val_accuracy: 0.5300\n",
            "Epoch 124/2000\n",
            "57/57 [==============================] - 0s 6ms/step - loss: 1.8627 - accuracy: 0.6119 - val_loss: 2.1403 - val_accuracy: 0.5250\n",
            "Epoch 125/2000\n",
            "57/57 [==============================] - 0s 6ms/step - loss: 1.8554 - accuracy: 0.6100 - val_loss: 2.0884 - val_accuracy: 0.5325\n",
            "Epoch 126/2000\n",
            "57/57 [==============================] - 0s 7ms/step - loss: 1.8447 - accuracy: 0.6108 - val_loss: 1.8862 - val_accuracy: 0.5975\n",
            "Epoch 127/2000\n",
            "57/57 [==============================] - 0s 7ms/step - loss: 1.8293 - accuracy: 0.6125 - val_loss: 1.9656 - val_accuracy: 0.5825\n",
            "Epoch 128/2000\n",
            "57/57 [==============================] - 0s 7ms/step - loss: 1.8120 - accuracy: 0.6256 - val_loss: 1.9107 - val_accuracy: 0.5725\n",
            "Epoch 129/2000\n",
            "57/57 [==============================] - 0s 6ms/step - loss: 1.7995 - accuracy: 0.6231 - val_loss: 1.8938 - val_accuracy: 0.5875\n",
            "Epoch 130/2000\n",
            "57/57 [==============================] - 0s 7ms/step - loss: 1.7775 - accuracy: 0.6311 - val_loss: 2.0933 - val_accuracy: 0.5000\n",
            "Epoch 131/2000\n",
            "57/57 [==============================] - 0s 7ms/step - loss: 1.7755 - accuracy: 0.6236 - val_loss: 1.9098 - val_accuracy: 0.5675\n",
            "Epoch 132/2000\n",
            "57/57 [==============================] - 1s 9ms/step - loss: 1.7593 - accuracy: 0.6317 - val_loss: 1.9387 - val_accuracy: 0.5625\n",
            "Epoch 133/2000\n",
            "57/57 [==============================] - 0s 7ms/step - loss: 1.7494 - accuracy: 0.6358 - val_loss: 2.2125 - val_accuracy: 0.4775\n",
            "Epoch 134/2000\n",
            "57/57 [==============================] - 0s 7ms/step - loss: 1.7612 - accuracy: 0.6328 - val_loss: 1.9274 - val_accuracy: 0.5875\n",
            "Epoch 135/2000\n",
            "57/57 [==============================] - 0s 7ms/step - loss: 1.7400 - accuracy: 0.6317 - val_loss: 1.9600 - val_accuracy: 0.5350\n",
            "Epoch 136/2000\n",
            "57/57 [==============================] - 0s 7ms/step - loss: 1.7062 - accuracy: 0.6506 - val_loss: 1.9588 - val_accuracy: 0.5525\n",
            "Epoch 137/2000\n",
            "57/57 [==============================] - 0s 6ms/step - loss: 1.7101 - accuracy: 0.6500 - val_loss: 1.7846 - val_accuracy: 0.6125\n",
            "Epoch 138/2000\n",
            "57/57 [==============================] - 0s 6ms/step - loss: 1.6823 - accuracy: 0.6508 - val_loss: 2.1127 - val_accuracy: 0.5200\n",
            "Epoch 139/2000\n",
            "57/57 [==============================] - 0s 7ms/step - loss: 1.6948 - accuracy: 0.6556 - val_loss: 1.7782 - val_accuracy: 0.6325\n",
            "Epoch 140/2000\n",
            "57/57 [==============================] - 0s 7ms/step - loss: 1.6675 - accuracy: 0.6539 - val_loss: 1.7826 - val_accuracy: 0.6275\n",
            "Epoch 141/2000\n",
            "57/57 [==============================] - 0s 7ms/step - loss: 1.6519 - accuracy: 0.6725 - val_loss: 1.7895 - val_accuracy: 0.6075\n",
            "Epoch 142/2000\n",
            "57/57 [==============================] - 0s 6ms/step - loss: 1.6408 - accuracy: 0.6739 - val_loss: 1.7069 - val_accuracy: 0.6500\n",
            "Epoch 143/2000\n",
            "57/57 [==============================] - 0s 6ms/step - loss: 1.6333 - accuracy: 0.6731 - val_loss: 1.7888 - val_accuracy: 0.6000\n",
            "Epoch 144/2000\n",
            "57/57 [==============================] - 0s 7ms/step - loss: 1.6283 - accuracy: 0.6728 - val_loss: 1.8148 - val_accuracy: 0.5875\n",
            "Epoch 145/2000\n",
            "57/57 [==============================] - 0s 7ms/step - loss: 1.6200 - accuracy: 0.6761 - val_loss: 1.6835 - val_accuracy: 0.6575\n",
            "Epoch 146/2000\n",
            "57/57 [==============================] - 0s 7ms/step - loss: 1.5939 - accuracy: 0.6903 - val_loss: 1.8349 - val_accuracy: 0.5925\n",
            "Epoch 147/2000\n",
            "57/57 [==============================] - 0s 7ms/step - loss: 1.6019 - accuracy: 0.6808 - val_loss: 1.7527 - val_accuracy: 0.6300\n",
            "Epoch 148/2000\n",
            "57/57 [==============================] - 0s 7ms/step - loss: 1.6074 - accuracy: 0.6803 - val_loss: 1.7951 - val_accuracy: 0.6025\n",
            "Epoch 149/2000\n",
            "57/57 [==============================] - 0s 7ms/step - loss: 1.5697 - accuracy: 0.6928 - val_loss: 1.7606 - val_accuracy: 0.6175\n",
            "Epoch 150/2000\n",
            "57/57 [==============================] - 0s 7ms/step - loss: 1.5642 - accuracy: 0.6942 - val_loss: 1.8224 - val_accuracy: 0.5975\n",
            "Epoch 151/2000\n",
            "57/57 [==============================] - 0s 7ms/step - loss: 1.5787 - accuracy: 0.6739 - val_loss: 1.7594 - val_accuracy: 0.6200\n",
            "Epoch 152/2000\n",
            "57/57 [==============================] - 0s 7ms/step - loss: 1.5455 - accuracy: 0.6972 - val_loss: 1.7550 - val_accuracy: 0.6400\n",
            "Epoch 153/2000\n",
            "57/57 [==============================] - 0s 6ms/step - loss: 1.5212 - accuracy: 0.7033 - val_loss: 1.8891 - val_accuracy: 0.5725\n",
            "Epoch 154/2000\n",
            "57/57 [==============================] - 0s 6ms/step - loss: 1.5073 - accuracy: 0.7047 - val_loss: 1.6714 - val_accuracy: 0.6800\n",
            "Epoch 155/2000\n",
            "57/57 [==============================] - 0s 7ms/step - loss: 1.5157 - accuracy: 0.7061 - val_loss: 1.6779 - val_accuracy: 0.6525\n",
            "Epoch 156/2000\n",
            "57/57 [==============================] - 1s 9ms/step - loss: 1.5064 - accuracy: 0.7078 - val_loss: 1.6267 - val_accuracy: 0.6700\n",
            "Epoch 157/2000\n",
            "57/57 [==============================] - 0s 7ms/step - loss: 1.5055 - accuracy: 0.7081 - val_loss: 1.6666 - val_accuracy: 0.6700\n",
            "Epoch 158/2000\n",
            "57/57 [==============================] - 0s 7ms/step - loss: 1.5046 - accuracy: 0.7050 - val_loss: 2.0083 - val_accuracy: 0.5225\n",
            "Epoch 159/2000\n",
            "57/57 [==============================] - 0s 7ms/step - loss: 1.4827 - accuracy: 0.7167 - val_loss: 1.7044 - val_accuracy: 0.6375\n",
            "Epoch 160/2000\n",
            "57/57 [==============================] - 0s 7ms/step - loss: 1.4503 - accuracy: 0.7264 - val_loss: 1.9419 - val_accuracy: 0.5675\n",
            "Epoch 161/2000\n",
            "57/57 [==============================] - 0s 7ms/step - loss: 1.4705 - accuracy: 0.7194 - val_loss: 1.7664 - val_accuracy: 0.6225\n",
            "Epoch 162/2000\n",
            "57/57 [==============================] - 0s 7ms/step - loss: 1.4600 - accuracy: 0.7258 - val_loss: 1.6500 - val_accuracy: 0.6625\n",
            "Epoch 163/2000\n",
            "57/57 [==============================] - 0s 7ms/step - loss: 1.4436 - accuracy: 0.7256 - val_loss: 1.7432 - val_accuracy: 0.6200\n",
            "Epoch 164/2000\n",
            "57/57 [==============================] - 0s 7ms/step - loss: 1.4321 - accuracy: 0.7303 - val_loss: 1.6767 - val_accuracy: 0.6650\n",
            "Epoch 165/2000\n",
            "57/57 [==============================] - 0s 7ms/step - loss: 1.4565 - accuracy: 0.7197 - val_loss: 1.7345 - val_accuracy: 0.6300\n",
            "Epoch 166/2000\n",
            "57/57 [==============================] - 0s 7ms/step - loss: 1.4335 - accuracy: 0.7269 - val_loss: 1.6288 - val_accuracy: 0.6750\n",
            "Epoch 167/2000\n",
            "57/57 [==============================] - 0s 7ms/step - loss: 1.3937 - accuracy: 0.7386 - val_loss: 1.6401 - val_accuracy: 0.6550\n",
            "Epoch 168/2000\n",
            "57/57 [==============================] - 0s 7ms/step - loss: 1.4049 - accuracy: 0.7478 - val_loss: 1.7344 - val_accuracy: 0.6225\n",
            "Epoch 169/2000\n",
            "57/57 [==============================] - 0s 6ms/step - loss: 1.3811 - accuracy: 0.7408 - val_loss: 1.6700 - val_accuracy: 0.6325\n",
            "Epoch 170/2000\n",
            "57/57 [==============================] - 0s 7ms/step - loss: 1.3942 - accuracy: 0.7361 - val_loss: 1.8022 - val_accuracy: 0.6125\n",
            "Epoch 171/2000\n",
            "57/57 [==============================] - 0s 7ms/step - loss: 1.3625 - accuracy: 0.7536 - val_loss: 1.6114 - val_accuracy: 0.6725\n",
            "Epoch 172/2000\n",
            "57/57 [==============================] - 0s 6ms/step - loss: 1.3643 - accuracy: 0.7503 - val_loss: 1.5568 - val_accuracy: 0.6800\n",
            "Epoch 173/2000\n",
            "57/57 [==============================] - 0s 7ms/step - loss: 1.3829 - accuracy: 0.7458 - val_loss: 1.7734 - val_accuracy: 0.6075\n",
            "Epoch 174/2000\n",
            "57/57 [==============================] - 0s 6ms/step - loss: 1.3646 - accuracy: 0.7514 - val_loss: 1.5441 - val_accuracy: 0.6950\n",
            "Epoch 175/2000\n",
            "57/57 [==============================] - 0s 6ms/step - loss: 1.3411 - accuracy: 0.7581 - val_loss: 1.8672 - val_accuracy: 0.5900\n",
            "Epoch 176/2000\n",
            "57/57 [==============================] - 0s 7ms/step - loss: 1.3329 - accuracy: 0.7600 - val_loss: 1.6120 - val_accuracy: 0.6575\n",
            "Epoch 177/2000\n",
            "57/57 [==============================] - 0s 7ms/step - loss: 1.3230 - accuracy: 0.7589 - val_loss: 1.5996 - val_accuracy: 0.6650\n",
            "Epoch 178/2000\n",
            "57/57 [==============================] - 0s 7ms/step - loss: 1.3112 - accuracy: 0.7622 - val_loss: 1.7097 - val_accuracy: 0.6300\n",
            "Epoch 179/2000\n",
            "57/57 [==============================] - 0s 7ms/step - loss: 1.3175 - accuracy: 0.7650 - val_loss: 1.5225 - val_accuracy: 0.7000\n",
            "Epoch 180/2000\n",
            "57/57 [==============================] - 1s 9ms/step - loss: 1.3068 - accuracy: 0.7722 - val_loss: 1.6078 - val_accuracy: 0.6725\n",
            "Epoch 181/2000\n",
            "57/57 [==============================] - 0s 7ms/step - loss: 1.2960 - accuracy: 0.7694 - val_loss: 1.6042 - val_accuracy: 0.6725\n",
            "Epoch 182/2000\n",
            "57/57 [==============================] - 0s 7ms/step - loss: 1.2882 - accuracy: 0.7767 - val_loss: 1.5781 - val_accuracy: 0.6725\n",
            "Epoch 183/2000\n",
            "57/57 [==============================] - 0s 7ms/step - loss: 1.2838 - accuracy: 0.7822 - val_loss: 1.7411 - val_accuracy: 0.6275\n",
            "Epoch 184/2000\n",
            "57/57 [==============================] - 0s 7ms/step - loss: 1.2679 - accuracy: 0.7792 - val_loss: 1.5700 - val_accuracy: 0.6925\n",
            "Epoch 185/2000\n",
            "57/57 [==============================] - 0s 7ms/step - loss: 1.2679 - accuracy: 0.7872 - val_loss: 1.7345 - val_accuracy: 0.6300\n",
            "Epoch 186/2000\n",
            "57/57 [==============================] - 0s 7ms/step - loss: 1.2570 - accuracy: 0.7847 - val_loss: 1.9081 - val_accuracy: 0.5900\n",
            "Epoch 187/2000\n",
            "57/57 [==============================] - 0s 7ms/step - loss: 1.2713 - accuracy: 0.7714 - val_loss: 1.5642 - val_accuracy: 0.6925\n",
            "Epoch 188/2000\n",
            "57/57 [==============================] - 0s 7ms/step - loss: 1.2436 - accuracy: 0.7906 - val_loss: 1.5821 - val_accuracy: 0.6725\n",
            "Epoch 189/2000\n",
            "57/57 [==============================] - 0s 6ms/step - loss: 1.2293 - accuracy: 0.7933 - val_loss: 1.4769 - val_accuracy: 0.7075\n",
            "Epoch 190/2000\n",
            "57/57 [==============================] - 0s 6ms/step - loss: 1.2210 - accuracy: 0.7944 - val_loss: 1.6312 - val_accuracy: 0.6675\n",
            "Epoch 191/2000\n",
            "57/57 [==============================] - 0s 7ms/step - loss: 1.2275 - accuracy: 0.7906 - val_loss: 1.5189 - val_accuracy: 0.6900\n",
            "Epoch 192/2000\n",
            "57/57 [==============================] - 0s 6ms/step - loss: 1.2264 - accuracy: 0.7919 - val_loss: 2.0027 - val_accuracy: 0.5625\n",
            "Epoch 193/2000\n",
            "57/57 [==============================] - 0s 7ms/step - loss: 1.2139 - accuracy: 0.8003 - val_loss: 1.6017 - val_accuracy: 0.6600\n",
            "Epoch 194/2000\n",
            "57/57 [==============================] - 0s 7ms/step - loss: 1.2201 - accuracy: 0.7892 - val_loss: 1.5881 - val_accuracy: 0.6750\n",
            "Epoch 195/2000\n",
            "57/57 [==============================] - 0s 7ms/step - loss: 1.1979 - accuracy: 0.7994 - val_loss: 1.5765 - val_accuracy: 0.6725\n",
            "Epoch 196/2000\n",
            "57/57 [==============================] - 0s 7ms/step - loss: 1.1898 - accuracy: 0.8069 - val_loss: 1.5447 - val_accuracy: 0.6800\n",
            "Epoch 197/2000\n",
            "57/57 [==============================] - 0s 7ms/step - loss: 1.1921 - accuracy: 0.8047 - val_loss: 1.8910 - val_accuracy: 0.5625\n",
            "Epoch 198/2000\n",
            "57/57 [==============================] - 0s 7ms/step - loss: 1.1551 - accuracy: 0.8106 - val_loss: 1.4374 - val_accuracy: 0.7075\n",
            "Epoch 199/2000\n",
            "57/57 [==============================] - 0s 7ms/step - loss: 1.1889 - accuracy: 0.7947 - val_loss: 1.5118 - val_accuracy: 0.7100\n",
            "Epoch 200/2000\n",
            "57/57 [==============================] - 0s 7ms/step - loss: 1.1627 - accuracy: 0.8133 - val_loss: 1.5227 - val_accuracy: 0.7125\n",
            "Epoch 201/2000\n",
            "57/57 [==============================] - 0s 7ms/step - loss: 1.1803 - accuracy: 0.8042 - val_loss: 1.5643 - val_accuracy: 0.6900\n",
            "Epoch 202/2000\n",
            "57/57 [==============================] - 0s 7ms/step - loss: 1.1630 - accuracy: 0.8081 - val_loss: 1.4268 - val_accuracy: 0.7150\n",
            "Epoch 203/2000\n",
            "57/57 [==============================] - 0s 7ms/step - loss: 1.1489 - accuracy: 0.8086 - val_loss: 1.6327 - val_accuracy: 0.6625\n",
            "Epoch 204/2000\n",
            "57/57 [==============================] - 1s 10ms/step - loss: 1.1275 - accuracy: 0.8236 - val_loss: 1.7091 - val_accuracy: 0.6525\n",
            "Epoch 205/2000\n",
            "57/57 [==============================] - 0s 7ms/step - loss: 1.1243 - accuracy: 0.8275 - val_loss: 1.8185 - val_accuracy: 0.5925\n",
            "Epoch 206/2000\n",
            "57/57 [==============================] - 0s 7ms/step - loss: 1.1399 - accuracy: 0.8128 - val_loss: 1.4839 - val_accuracy: 0.7175\n",
            "Epoch 207/2000\n",
            "57/57 [==============================] - 0s 6ms/step - loss: 1.1157 - accuracy: 0.8253 - val_loss: 1.5550 - val_accuracy: 0.6800\n",
            "Epoch 208/2000\n",
            "57/57 [==============================] - 0s 7ms/step - loss: 1.1230 - accuracy: 0.8172 - val_loss: 2.0329 - val_accuracy: 0.5575\n",
            "Epoch 209/2000\n",
            "57/57 [==============================] - 0s 7ms/step - loss: 1.1677 - accuracy: 0.8039 - val_loss: 2.0586 - val_accuracy: 0.5350\n",
            "Epoch 210/2000\n",
            "57/57 [==============================] - 0s 7ms/step - loss: 1.1039 - accuracy: 0.8358 - val_loss: 1.4467 - val_accuracy: 0.7275\n",
            "Epoch 211/2000\n",
            "57/57 [==============================] - 0s 7ms/step - loss: 1.0753 - accuracy: 0.8392 - val_loss: 1.5806 - val_accuracy: 0.6700\n",
            "Epoch 212/2000\n",
            "57/57 [==============================] - 0s 7ms/step - loss: 1.1101 - accuracy: 0.8175 - val_loss: 1.7565 - val_accuracy: 0.6225\n",
            "Epoch 213/2000\n",
            "57/57 [==============================] - 0s 7ms/step - loss: 1.0965 - accuracy: 0.8264 - val_loss: 1.6093 - val_accuracy: 0.6750\n",
            "Epoch 214/2000\n",
            "57/57 [==============================] - 0s 7ms/step - loss: 1.0758 - accuracy: 0.8353 - val_loss: 1.4357 - val_accuracy: 0.7300\n",
            "Epoch 215/2000\n",
            "57/57 [==============================] - 0s 7ms/step - loss: 1.0643 - accuracy: 0.8372 - val_loss: 1.4681 - val_accuracy: 0.7250\n",
            "Epoch 216/2000\n",
            "57/57 [==============================] - 0s 7ms/step - loss: 1.0994 - accuracy: 0.8242 - val_loss: 1.8858 - val_accuracy: 0.5800\n",
            "Epoch 217/2000\n",
            "57/57 [==============================] - 0s 7ms/step - loss: 1.0783 - accuracy: 0.8372 - val_loss: 1.5330 - val_accuracy: 0.7150\n",
            "113/113 [==============================] - 0s 3ms/step - loss: 1.1565 - accuracy: 0.7975\n",
            "13/13 [==============================] - 0s 4ms/step - loss: 1.5330 - accuracy: 0.7150\n"
          ],
          "name": "stdout"
        },
        {
          "output_type": "display_data",
          "data": {
            "image/png": "[encoded data removed]",
            "text/plain": [
              "<Figure size 432x288 with 1 Axes>"
            ]
          },
          "metadata": {
            "tags": [],
            "needs_background": "light"
          }
        },
        {
          "output_type": "display_data",
          "data": {
            "image/png": "[encoded data removed]",
            "text/plain": [
              "<Figure size 432x288 with 1 Axes>"
            ]
          },
          "metadata": {
            "tags": [],
            "needs_background": "light"
          }
        }
      ]
    },
    {
      "cell_type": "markdown",
      "metadata": {
        "id": "zWC4Qb8OxqL5"
      },
      "source": [
        "**Multi Modal Data Preprocessing**"
      ]
    },
    {
      "cell_type": "code",
      "metadata": {
        "id": "z5Btm0G87prX"
      },
      "source": [
        "def labelsTruthValue(labels):\r\n",
        "    for i in range(len(labels)):\r\n",
        "        if labels[i] == 1:\r\n",
        "            return i\r\n",
        "    return -1\r\n",
        "\r\n",
        "def fuseAudioImageData(audioData, audioLabels, imageData, imageLabels, sizePerLabel = 0.5):\r\n",
        "    if len(audioData) != len(imageData):\r\n",
        "        raise ValueError('length of audio and image data should be same')\r\n",
        "    if len(audioLabels[0]) != len(imageLabels[0]):\r\n",
        "        raise ValueError('length of audio and image labels categories should be same')\r\n",
        "    indexes = []\r\n",
        "    # trueDataIndexes = set([])\r\n",
        "    data = [[], []]\r\n",
        "    labels = []\r\n",
        "    trueDataSize = int(len(audioData) * sizePerLabel)\r\n",
        "    for i in range(len(audioData)):\r\n",
        "        indexes.append(i)\r\n",
        "\r\n",
        "    random.shuffle(indexes)\r\n",
        "    for index in indexes:\r\n",
        "        data[0].append(audioData[index])\r\n",
        "        data[1].append(imageData[index])\r\n",
        "        labels.append(labelsTruthValue(audioLabels[index]))\r\n",
        "        # trueDataIndexes.add(index)\r\n",
        "        if len(labels) == trueDataSize:\r\n",
        "            break\r\n",
        "\r\n",
        "    # pairInserted = set([])\r\n",
        "    # for i in range(trueDataSize):\r\n",
        "    #     i1 = random.randint(0, len(audioData) - 1)\r\n",
        "    #     i2 = random.randint(0, len(imageData) - 1)\r\n",
        "    #     while labelsTruthValue(audioLabels[i1]) == labelsTruthValue(imageLabels[i2]) or (i1, i2) in pairInserted:\r\n",
        "    #         i1 = random.randint(0, len(audioData) - 1)\r\n",
        "    #         i2 = random.randint(0, len(imageData) - 1)\r\n",
        "    #     data[0].append(audioData[i1])\r\n",
        "    #     data[1].append(imageData[i1])\r\n",
        "    #     labels.append(0)\r\n",
        "    #     pairInserted.add((i1, i2))\r\n",
        "\r\n",
        "    return np.array(data), np.array(labels)"
      ],
      "execution_count": null,
      "outputs": []
    },
    {
      "cell_type": "code",
      "metadata": {
        "colab": {
          "base_uri": "https://localhost:8080/"
        },
        "id": "qhrssXRBAdB5",
        "outputId": "cfa00cab-7a2f-43da-e710-290e954dc243"
      },
      "source": [
        "main_data, main_labels = fuseAudioImageData(audio_data, audio_labels, image_data, image_labels, sizePerLabel=1)\r\n",
        "print(main_data.shape, main_labels.shape)"
      ],
      "execution_count": null,
      "outputs": [
        {
          "output_type": "stream",
          "text": [
            "(2, 4000) (4000,)\n"
          ],
          "name": "stdout"
        },
        {
          "output_type": "stream",
          "text": [
            "/usr/local/lib/python3.6/dist-packages/ipykernel_launcher.py:41: VisibleDeprecationWarning: Creating an ndarray from ragged nested sequences (which is a list-or-tuple of lists-or-tuples-or ndarrays with different lengths or shapes) is deprecated. If you meant to do this, you must specify 'dtype=object' when creating the ndarray\n"
          ],
          "name": "stderr"
        }
      ]
    },
    {
      "cell_type": "code",
      "metadata": {
        "id": "3sRKsXNaTGyt"
      },
      "source": [
        "def getAllMultiInputData(x, y, testSize = 0.1):\r\n",
        "    trainX = []\r\n",
        "    trainY = []\r\n",
        "    testX = []\r\n",
        "    testY = []\r\n",
        "    for i in range(len(x)):\r\n",
        "        trainX.append([])\r\n",
        "        testX.append([])\r\n",
        "    \r\n",
        "    indexes = []\r\n",
        "    for i in range(x.shape[1]):\r\n",
        "        indexes.append(i)\r\n",
        "    \r\n",
        "    random.shuffle(indexes)\r\n",
        "    lastIndex = 0\r\n",
        "    for i in range(int(x.shape[1] * testSize)):\r\n",
        "        lastIndex = i + 1\r\n",
        "        for j in range(len(x)):\r\n",
        "            testX[j].append(x[j][i])\r\n",
        "        testY.append(y[i])\r\n",
        "\r\n",
        "    for i in range(lastIndex, int(x.shape[1])):\r\n",
        "        for j in range(len(x)):\r\n",
        "            trainX[j].append(x[j][i])\r\n",
        "        trainY.append(y[i])\r\n",
        "    \r\n",
        "    for j in range(len(x)):\r\n",
        "        trainX[j] = np.array(trainX[j])\r\n",
        "        testX[j] = np.array(testX[j])\r\n",
        "    trainY = tf.keras.utils.to_categorical(trainY)\r\n",
        "    testY = tf.keras.utils.to_categorical(testY)\r\n",
        "    \r\n",
        "    return trainX, trainY, testX, testY"
      ],
      "execution_count": null,
      "outputs": []
    },
    {
      "cell_type": "code",
      "metadata": {
        "colab": {
          "base_uri": "https://localhost:8080/"
        },
        "id": "5JjOwvOxCWMx",
        "outputId": "5a5a9614-8e7e-4baf-f49a-09d5f0bfcfd1"
      },
      "source": [
        "trainX, trainY, testX, testY = getAllMultiInputData(main_data, main_labels)\r\n",
        "print(len(trainX), trainX[0].shape, trainX[1].shape, trainY.shape, len(testX), testX[0].shape, testX[1].shape, testY.shape)"
      ],
      "execution_count": null,
      "outputs": [
        {
          "output_type": "stream",
          "text": [
            "2 (3600, 128, 128, 1) (3600, 246, 246, 3) (3600, 40) 2 (400, 128, 128, 1) (400, 246, 246, 3) (400, 40)\n"
          ],
          "name": "stdout"
        }
      ]
    },
    {
      "cell_type": "markdown",
      "metadata": {
        "id": "dE-drNdkY5YV"
      },
      "source": [
        "**Multi Modal Model**"
      ]
    },
    {
      "cell_type": "code",
      "metadata": {
        "id": "HO0kzgzm7ODB"
      },
      "source": [
        "def imageExtractFeatures(inputDim):\r\n",
        "    model = tf.keras.Sequential()\r\n",
        "    model.add(tf.keras.layers.Input(inputDim))\r\n",
        "    model.add(tf.keras.layers.experimental.preprocessing.Rescaling(1. / 255))\r\n",
        "    model.add(tf.keras.layers.Conv2D(64, (3, 3), activation='relu', kernel_initializer='he_normal',\r\n",
        "                                     kernel_regularizer=tf.keras.regularizers.l2(0.001)))\r\n",
        "    # model.add(tf.keras.layers.Dropout(0.2))\r\n",
        "    model.add(tf.keras.layers.MaxPool2D())\r\n",
        "    model.add(tf.keras.layers.Conv2D(64, (3, 3), activation='relu', kernel_initializer='he_normal',\r\n",
        "                                     kernel_regularizer=tf.keras.regularizers.l2(0.001)))\r\n",
        "    # model.add(tf.keras.layers.Dropout(0.2))\r\n",
        "    model.add(tf.keras.layers.MaxPool2D(4, 4))\r\n",
        "    model.add(tf.keras.layers.Flatten())\r\n",
        "    # model.add(tf.keras.layers.Conv2D(128, (3, 3), activation='relu', kernel_initializer='he_normal'))\r\n",
        "    # model.add(tf.keras.layers.Dropout(0.5))\r\n",
        "    # model.add(tf.keras.layers.MaxPool2D())\r\n",
        "    # model.add(tf.keras.layers.Conv2D(128, (6, 6), activation='relu', kernel_initializer='he_normal'))\r\n",
        "    # model.add(tf.keras.layers.Dropout(0.5))\r\n",
        "    # model.add(tf.keras.layers.Dense(64, activation='relu'))\r\n",
        "    print(\"image mode:-\")\r\n",
        "    model.summary()\r\n",
        "    return model, model.output_shape\r\n",
        "\r\n",
        "\r\n",
        "def audioExtractFeatures(inputDim):\r\n",
        "    model = tf.keras.Sequential()\r\n",
        "    model.add(tf.keras.layers.Input(inputDim))\r\n",
        "    model.add(tf.keras.layers.experimental.preprocessing.Rescaling(1. / 255))\r\n",
        "    model.add(tf.keras.layers.Conv2D(128, (3, 3), activation='relu', kernel_initializer='he_normal',\r\n",
        "                                     kernel_regularizer=tf.keras.regularizers.l2(0.001)))\r\n",
        "    # model.add(tf.keras.layers.Dropout(0.5))\r\n",
        "    model.add(tf.keras.layers.MaxPool2D())\r\n",
        "    model.add(tf.keras.layers.Conv2D(64, (3, 3), activation='relu', kernel_initializer='he_normal',\r\n",
        "                                     kernel_regularizer=tf.keras.regularizers.l2(0.001)))\r\n",
        "    model.add(tf.keras.layers.MaxPool2D())\r\n",
        "    model.add(tf.keras.layers.Flatten())\r\n",
        "    print(\"audio model:-\")\r\n",
        "    model.summary()\r\n",
        "    return model, model.output_shape\r\n",
        "\r\n",
        "def audioExtractFeaturesLSTM(inputDim):\r\n",
        "    model = tf.keras.Sequential()\r\n",
        "    model.add(tf.keras.layers.Input(inputDim))\r\n",
        "    model.add(tf.keras.layers.experimental.preprocessing.Rescaling(1./255))\r\n",
        "    model.add(tf.keras.layers.Conv1D(64, 5, activation='relu', kernel_initializer='he_normal', kernel_regularizer=tf.keras.regularizers.l2(0.001)))\r\n",
        "    model.add(tf.keras.layers.MaxPool1D())\r\n",
        "    model.add(tf.keras.layers.Conv1D(128, 5, activation='relu', kernel_initializer='he_normal', kernel_regularizer=tf.keras.regularizers.l2(0.001)))\r\n",
        "    model.add(tf.keras.layers.MaxPool1D())\r\n",
        "    model.add(tf.keras.layers.LSTM(64))\r\n",
        "    print(\"audio model:-\")\r\n",
        "    model.summary()\r\n",
        "    return model, model.output_shape\r\n",
        "\r\n",
        "\r\n",
        "def getFusionModel(inputShape):\r\n",
        "    model = tf.keras.Sequential()\r\n",
        "    model.add(tf.keras.layers.Input(inputShape))\r\n",
        "    # model.add(tf.keras.layers.Conv2D(128, (3, 3), activation='relu', kernel_initializer='he_normal'))\r\n",
        "    # model.add(tf.keras.layers.MaxPool2D())\r\n",
        "    # model.add(tf.keras.layers.Flatten())\r\n",
        "    # model.add(tf.keras.layers.Dense(128, activation='relu', kernel_initializer='he_normal'))\r\n",
        "    model.add(tf.keras.layers.Dense(64, activation='relu', kernel_initializer='he_normal',\r\n",
        "                                     kernel_regularizer=tf.keras.regularizers.l2(0.001)))\r\n",
        "    model.add(tf.keras.layers.Dropout(0.15))\r\n",
        "    # model.add(tf.keras.layers.Dense(2, activation='softmax', kernel_initializer='glorot_normal'))\r\n",
        "    print(\"fused model:-\")\r\n",
        "    model.summary()\r\n",
        "    return model\r\n",
        "\r\n",
        "\r\n",
        "def getModel():\r\n",
        "    img_feat_model, img_output_shape = imageExtractFeatures(img_input_dim)\r\n",
        "    audio_feat_model, audio_output_shape = audioExtractFeatures((128, 128, 1))\r\n",
        "    img_input = tf.keras.Input(img_input_dim)\r\n",
        "    audio_input = tf.keras.Input((128, 128, 1))\r\n",
        "    imgFeat = img_feat_model(img_input)\r\n",
        "    audioFeat = audio_feat_model(audio_input)\r\n",
        "\r\n",
        "    concat = tf.keras.layers.Concatenate()([audioFeat, imgFeat])\r\n",
        "    print(img_output_shape, audio_output_shape)\r\n",
        "    fusionModel = getFusionModel((img_output_shape[1] + audio_output_shape[1]))\r\n",
        "    fusedModelTensor = fusionModel(concat)\r\n",
        "    softmaxLayer = tf.keras.layers.Dense(40, activation='softmax', kernel_initializer='he_normal')(fusedModelTensor)\r\n",
        "    model = tf.keras.Model(inputs=[audio_input, img_input], outputs=softmaxLayer)\r\n",
        "    return model\r\n"
      ],
      "execution_count": null,
      "outputs": []
    },
    {
      "cell_type": "markdown",
      "metadata": {
        "id": "W3l4_95LZFmY"
      },
      "source": [
        "**Multi Modal with LSTM in audio classification Results**"
      ]
    },
    {
      "cell_type": "code",
      "metadata": {
        "colab": {
          "base_uri": "https://localhost:8080/"
        },
        "id": "9y17WxofaPHP",
        "outputId": "1451b289-cea5-44be-fcce-2e837ba0344b"
      },
      "source": [
        "model = getModel()\r\n",
        "model.summary()\r\n",
        "\r\n",
        "model.compile(optimizer=tf.keras.optimizers.Adam(), loss='categorical_crossentropy', metrics=['accuracy'])"
      ],
      "execution_count": null,
      "outputs": [
        {
          "output_type": "stream",
          "text": [
            "image mode:-\n",
            "Model: \"sequential_14\"\n",
            "_________________________________________________________________\n",
            "Layer (type)                 Output Shape              Param #   \n",
            "=================================================================\n",
            "rescaling_12 (Rescaling)     (None, 246, 246, 3)       0         \n",
            "_________________________________________________________________\n",
            "conv2d_13 (Conv2D)           (None, 244, 244, 64)      1792      \n",
            "_________________________________________________________________\n",
            "max_pooling2d_12 (MaxPooling (None, 122, 122, 64)      0         \n",
            "_________________________________________________________________\n",
            "conv2d_14 (Conv2D)           (None, 120, 120, 64)      36928     \n",
            "_________________________________________________________________\n",
            "max_pooling2d_13 (MaxPooling (None, 30, 30, 64)        0         \n",
            "_________________________________________________________________\n",
            "flatten_6 (Flatten)          (None, 57600)             0         \n",
            "_________________________________________________________________\n",
            "dense_10 (Dense)             (None, 64)                3686464   \n",
            "=================================================================\n",
            "Total params: 3,725,184\n",
            "Trainable params: 3,725,184\n",
            "Non-trainable params: 0\n",
            "_________________________________________________________________\n",
            "audio model:-\n",
            "Model: \"sequential_15\"\n",
            "_________________________________________________________________\n",
            "Layer (type)                 Output Shape              Param #   \n",
            "=================================================================\n",
            "rescaling_13 (Rescaling)     (None, None, 128)         0         \n",
            "_________________________________________________________________\n",
            "conv1d_10 (Conv1D)           (None, None, 64)          41024     \n",
            "_________________________________________________________________\n",
            "max_pooling1d_10 (MaxPooling (None, None, 64)          0         \n",
            "_________________________________________________________________\n",
            "conv1d_11 (Conv1D)           (None, None, 128)         41088     \n",
            "_________________________________________________________________\n",
            "max_pooling1d_11 (MaxPooling (None, None, 128)         0         \n",
            "_________________________________________________________________\n",
            "lstm_5 (LSTM)                (None, 64)                49408     \n",
            "=================================================================\n",
            "Total params: 131,520\n",
            "Trainable params: 131,520\n",
            "Non-trainable params: 0\n",
            "_________________________________________________________________\n",
            "(None, 64) (None, 64)\n",
            "fused model:-\n",
            "Model: \"sequential_16\"\n",
            "_________________________________________________________________\n",
            "Layer (type)                 Output Shape              Param #   \n",
            "=================================================================\n",
            "dense_11 (Dense)             (None, 64)                8256      \n",
            "_________________________________________________________________\n",
            "dropout_4 (Dropout)          (None, 64)                0         \n",
            "=================================================================\n",
            "Total params: 8,256\n",
            "Trainable params: 8,256\n",
            "Non-trainable params: 0\n",
            "_________________________________________________________________\n",
            "Model: \"model_2\"\n",
            "__________________________________________________________________________________________________\n",
            "Layer (type)                    Output Shape         Param #     Connected to                     \n",
            "==================================================================================================\n",
            "input_22 (InputLayer)           [(None, None, 128)]  0                                            \n",
            "__________________________________________________________________________________________________\n",
            "input_21 (InputLayer)           [(None, 246, 246, 3) 0                                            \n",
            "__________________________________________________________________________________________________\n",
            "sequential_15 (Sequential)      (None, 64)           131520      input_22[0][0]                   \n",
            "__________________________________________________________________________________________________\n",
            "sequential_14 (Sequential)      (None, 64)           3725184     input_21[0][0]                   \n",
            "__________________________________________________________________________________________________\n",
            "concatenate_2 (Concatenate)     (None, 128)          0           sequential_15[0][0]              \n",
            "                                                                 sequential_14[0][0]              \n",
            "__________________________________________________________________________________________________\n",
            "sequential_16 (Sequential)      (None, 64)           8256        concatenate_2[0][0]              \n",
            "__________________________________________________________________________________________________\n",
            "dense_12 (Dense)                (None, 40)           2600        sequential_16[0][0]              \n",
            "==================================================================================================\n",
            "Total params: 3,867,560\n",
            "Trainable params: 3,867,560\n",
            "Non-trainable params: 0\n",
            "__________________________________________________________________________________________________\n"
          ],
          "name": "stdout"
        }
      ]
    },
    {
      "cell_type": "code",
      "metadata": {
        "colab": {
          "base_uri": "https://localhost:8080/",
          "height": 1000
        },
        "id": "9t95P07FZZy4",
        "outputId": "0a2e8a01-b019-4f36-9e26-aed7a41a8743"
      },
      "source": [
        "runModel(model)"
      ],
      "execution_count": null,
      "outputs": [
        {
          "output_type": "stream",
          "text": [
            "13/13 [==============================] - 1s 21ms/step - loss: 4.5633 - accuracy: 0.0251\n",
            "113/113 [==============================] - 2s 19ms/step - loss: 4.5635 - accuracy: 0.0228\n",
            "Epoch 1/2000\n",
            "57/57 [==============================] - 9s 131ms/step - loss: 4.6204 - accuracy: 0.0397 - val_loss: 4.0465 - val_accuracy: 0.1000\n",
            "Epoch 2/2000\n",
            "57/57 [==============================] - 7s 130ms/step - loss: 3.6844 - accuracy: 0.1464 - val_loss: 3.2083 - val_accuracy: 0.2475\n",
            "Epoch 3/2000\n",
            "57/57 [==============================] - 8s 132ms/step - loss: 2.7407 - accuracy: 0.3525 - val_loss: 2.1991 - val_accuracy: 0.4925\n",
            "Epoch 4/2000\n",
            "57/57 [==============================] - 7s 131ms/step - loss: 1.9062 - accuracy: 0.5436 - val_loss: 1.6687 - val_accuracy: 0.6300\n",
            "Epoch 5/2000\n",
            "57/57 [==============================] - 7s 130ms/step - loss: 1.3747 - accuracy: 0.6775 - val_loss: 1.4417 - val_accuracy: 0.6775\n",
            "Epoch 6/2000\n",
            "57/57 [==============================] - 7s 129ms/step - loss: 1.0088 - accuracy: 0.7742 - val_loss: 1.2494 - val_accuracy: 0.7225\n",
            "Epoch 7/2000\n",
            "57/57 [==============================] - 7s 129ms/step - loss: 0.7621 - accuracy: 0.8536 - val_loss: 1.1244 - val_accuracy: 0.7700\n",
            "Epoch 8/2000\n",
            "57/57 [==============================] - 7s 128ms/step - loss: 0.5955 - accuracy: 0.8953 - val_loss: 1.0808 - val_accuracy: 0.7600\n",
            "Epoch 9/2000\n",
            "57/57 [==============================] - 7s 128ms/step - loss: 0.4759 - accuracy: 0.9294 - val_loss: 1.0853 - val_accuracy: 0.7775\n",
            "Epoch 10/2000\n",
            "57/57 [==============================] - 7s 129ms/step - loss: 0.4104 - accuracy: 0.9478 - val_loss: 1.0961 - val_accuracy: 0.7500\n",
            "Epoch 11/2000\n",
            "57/57 [==============================] - 7s 130ms/step - loss: 0.4080 - accuracy: 0.9525 - val_loss: 1.0312 - val_accuracy: 0.8025\n",
            "Epoch 12/2000\n",
            "57/57 [==============================] - 7s 131ms/step - loss: 0.3783 - accuracy: 0.9556 - val_loss: 1.0402 - val_accuracy: 0.7725\n",
            "Epoch 13/2000\n",
            "57/57 [==============================] - 7s 130ms/step - loss: 0.3528 - accuracy: 0.9569 - val_loss: 1.1759 - val_accuracy: 0.7675\n",
            "Epoch 14/2000\n",
            "57/57 [==============================] - 7s 131ms/step - loss: 0.3461 - accuracy: 0.9600 - val_loss: 1.1010 - val_accuracy: 0.7625\n",
            "Epoch 15/2000\n",
            "57/57 [==============================] - 7s 130ms/step - loss: 0.3098 - accuracy: 0.9708 - val_loss: 1.0030 - val_accuracy: 0.8250\n",
            "Epoch 16/2000\n",
            "57/57 [==============================] - 7s 130ms/step - loss: 0.3245 - accuracy: 0.9633 - val_loss: 1.0703 - val_accuracy: 0.7950\n",
            "Epoch 17/2000\n",
            "57/57 [==============================] - 7s 130ms/step - loss: 0.2742 - accuracy: 0.9789 - val_loss: 1.0763 - val_accuracy: 0.7825\n",
            "Epoch 18/2000\n",
            "57/57 [==============================] - 7s 129ms/step - loss: 0.2713 - accuracy: 0.9769 - val_loss: 1.1266 - val_accuracy: 0.8000\n",
            "Epoch 19/2000\n",
            "57/57 [==============================] - 7s 129ms/step - loss: 0.2514 - accuracy: 0.9842 - val_loss: 1.0669 - val_accuracy: 0.8075\n",
            "Epoch 20/2000\n",
            "57/57 [==============================] - 7s 129ms/step - loss: 0.2427 - accuracy: 0.9833 - val_loss: 0.9788 - val_accuracy: 0.7925\n",
            "Epoch 21/2000\n",
            "57/57 [==============================] - 7s 129ms/step - loss: 0.2355 - accuracy: 0.9858 - val_loss: 0.9968 - val_accuracy: 0.8275\n",
            "Epoch 22/2000\n",
            "57/57 [==============================] - 7s 129ms/step - loss: 0.2382 - accuracy: 0.9833 - val_loss: 1.1309 - val_accuracy: 0.8000\n",
            "Epoch 23/2000\n",
            "57/57 [==============================] - 7s 130ms/step - loss: 0.2336 - accuracy: 0.9856 - val_loss: 1.1323 - val_accuracy: 0.7850\n",
            "Epoch 24/2000\n",
            "57/57 [==============================] - 7s 130ms/step - loss: 0.2125 - accuracy: 0.9906 - val_loss: 0.9580 - val_accuracy: 0.8125\n",
            "Epoch 25/2000\n",
            "57/57 [==============================] - 7s 130ms/step - loss: 0.2294 - accuracy: 0.9836 - val_loss: 1.0361 - val_accuracy: 0.8000\n",
            "Epoch 26/2000\n",
            "57/57 [==============================] - 7s 130ms/step - loss: 0.2084 - accuracy: 0.9911 - val_loss: 0.9669 - val_accuracy: 0.8375\n",
            "Epoch 27/2000\n",
            "57/57 [==============================] - 7s 130ms/step - loss: 0.2086 - accuracy: 0.9889 - val_loss: 1.1015 - val_accuracy: 0.8025\n",
            "Epoch 28/2000\n",
            "57/57 [==============================] - 7s 130ms/step - loss: 0.1968 - accuracy: 0.9919 - val_loss: 1.1044 - val_accuracy: 0.8000\n",
            "Epoch 29/2000\n",
            "57/57 [==============================] - 8s 133ms/step - loss: 0.2109 - accuracy: 0.9872 - val_loss: 1.0655 - val_accuracy: 0.8000\n",
            "113/113 [==============================] - 2s 19ms/step - loss: 0.1681 - accuracy: 0.9992\n",
            "13/13 [==============================] - 0s 18ms/step - loss: 1.0655 - accuracy: 0.8000\n"
          ],
          "name": "stdout"
        },
        {
          "output_type": "display_data",
          "data": {
            "image/png": "[encoded data removed]",
            "text/plain": [
              "<Figure size 432x288 with 1 Axes>"
            ]
          },
          "metadata": {
            "tags": [],
            "needs_background": "light"
          }
        },
        {
          "output_type": "display_data",
          "data": {
            "image/png": "[encoded data removed]",
            "text/plain": [
              "<Figure size 432x288 with 1 Axes>"
            ]
          },
          "metadata": {
            "tags": [],
            "needs_background": "light"
          }
        }
      ]
    },
    {
      "cell_type": "markdown",
      "metadata": {
        "id": "vJQR2UQCZaqC"
      },
      "source": [
        "**Multi Modal without LSTM in audio classification Results**"
      ]
    },
    {
      "cell_type": "code",
      "metadata": {
        "colab": {
          "base_uri": "https://localhost:8080/"
        },
        "id": "1--Q6GSWB6CT",
        "outputId": "2706bc81-6866-4159-c4a6-d0008e7faa2c"
      },
      "source": [
        "model = getModel()\r\n",
        "model.summary()\r\n",
        "\r\n",
        "model.compile(optimizer=tf.keras.optimizers.Adam(), loss='categorical_crossentropy', metrics=['accuracy'])"
      ],
      "execution_count": null,
      "outputs": [
        {
          "output_type": "stream",
          "text": [
            "image mode:-\n",
            "Model: \"sequential_22\"\n",
            "_________________________________________________________________\n",
            "Layer (type)                 Output Shape              Param #   \n",
            "=================================================================\n",
            "rescaling_18 (Rescaling)     (None, 246, 246, 3)       0         \n",
            "_________________________________________________________________\n",
            "conv2d_21 (Conv2D)           (None, 244, 244, 64)      1792      \n",
            "_________________________________________________________________\n",
            "max_pooling2d_20 (MaxPooling (None, 122, 122, 64)      0         \n",
            "_________________________________________________________________\n",
            "conv2d_22 (Conv2D)           (None, 120, 120, 64)      36928     \n",
            "_________________________________________________________________\n",
            "max_pooling2d_21 (MaxPooling (None, 30, 30, 64)        0         \n",
            "_________________________________________________________________\n",
            "flatten_10 (Flatten)         (None, 57600)             0         \n",
            "=================================================================\n",
            "Total params: 38,720\n",
            "Trainable params: 38,720\n",
            "Non-trainable params: 0\n",
            "_________________________________________________________________\n",
            "audio model:-\n",
            "Model: \"sequential_23\"\n",
            "_________________________________________________________________\n",
            "Layer (type)                 Output Shape              Param #   \n",
            "=================================================================\n",
            "rescaling_19 (Rescaling)     (None, 128, 128, 1)       0         \n",
            "_________________________________________________________________\n",
            "conv2d_23 (Conv2D)           (None, 126, 126, 128)     1280      \n",
            "_________________________________________________________________\n",
            "max_pooling2d_22 (MaxPooling (None, 63, 63, 128)       0         \n",
            "_________________________________________________________________\n",
            "conv2d_24 (Conv2D)           (None, 61, 61, 64)        73792     \n",
            "_________________________________________________________________\n",
            "max_pooling2d_23 (MaxPooling (None, 30, 30, 64)        0         \n",
            "_________________________________________________________________\n",
            "flatten_11 (Flatten)         (None, 57600)             0         \n",
            "=================================================================\n",
            "Total params: 75,072\n",
            "Trainable params: 75,072\n",
            "Non-trainable params: 0\n",
            "_________________________________________________________________\n",
            "(None, 57600) (None, 57600)\n",
            "fused model:-\n",
            "Model: \"sequential_24\"\n",
            "_________________________________________________________________\n",
            "Layer (type)                 Output Shape              Param #   \n",
            "=================================================================\n",
            "dense_17 (Dense)             (None, 64)                7372864   \n",
            "_________________________________________________________________\n",
            "dropout_6 (Dropout)          (None, 64)                0         \n",
            "=================================================================\n",
            "Total params: 7,372,864\n",
            "Trainable params: 7,372,864\n",
            "Non-trainable params: 0\n",
            "_________________________________________________________________\n",
            "Model: \"model_4\"\n",
            "__________________________________________________________________________________________________\n",
            "Layer (type)                    Output Shape         Param #     Connected to                     \n",
            "==================================================================================================\n",
            "input_34 (InputLayer)           [(None, 128, 128, 1) 0                                            \n",
            "__________________________________________________________________________________________________\n",
            "input_33 (InputLayer)           [(None, 246, 246, 3) 0                                            \n",
            "__________________________________________________________________________________________________\n",
            "sequential_23 (Sequential)      (None, 57600)        75072       input_34[0][0]                   \n",
            "__________________________________________________________________________________________________\n",
            "sequential_22 (Sequential)      (None, 57600)        38720       input_33[0][0]                   \n",
            "__________________________________________________________________________________________________\n",
            "concatenate_4 (Concatenate)     (None, 115200)       0           sequential_23[0][0]              \n",
            "                                                                 sequential_22[0][0]              \n",
            "__________________________________________________________________________________________________\n",
            "sequential_24 (Sequential)      (None, 64)           7372864     concatenate_4[0][0]              \n",
            "__________________________________________________________________________________________________\n",
            "dense_18 (Dense)                (None, 40)           2600        sequential_24[0][0]              \n",
            "==================================================================================================\n",
            "Total params: 7,489,256\n",
            "Trainable params: 7,489,256\n",
            "Non-trainable params: 0\n",
            "__________________________________________________________________________________________________\n"
          ],
          "name": "stdout"
        }
      ]
    },
    {
      "cell_type": "code",
      "metadata": {
        "colab": {
          "base_uri": "https://localhost:8080/",
          "height": 1000
        },
        "id": "S9yqxbU8ZFGv",
        "outputId": "26da63cb-259b-4f0a-ef4e-777c9f8438e4"
      },
      "source": [
        "runModel(model)"
      ],
      "execution_count": null,
      "outputs": [
        {
          "output_type": "stream",
          "text": [
            "13/13 [==============================] - 1s 32ms/step - loss: 4.5678 - accuracy: 0.0362\n",
            "113/113 [==============================] - 3s 30ms/step - loss: 4.5932 - accuracy: 0.0200\n",
            "Epoch 1/2000\n",
            "57/57 [==============================] - 11s 189ms/step - loss: 5.2098 - accuracy: 0.0400 - val_loss: 4.2225 - val_accuracy: 0.0550\n",
            "Epoch 2/2000\n",
            "57/57 [==============================] - 11s 191ms/step - loss: 3.9526 - accuracy: 0.1142 - val_loss: 3.5674 - val_accuracy: 0.2475\n",
            "Epoch 3/2000\n",
            "57/57 [==============================] - 11s 194ms/step - loss: 3.1273 - accuracy: 0.3042 - val_loss: 2.7655 - val_accuracy: 0.4400\n",
            "Epoch 4/2000\n",
            "57/57 [==============================] - 11s 192ms/step - loss: 2.3311 - accuracy: 0.5303 - val_loss: 2.1605 - val_accuracy: 0.5950\n",
            "Epoch 5/2000\n",
            "57/57 [==============================] - 11s 191ms/step - loss: 1.8518 - accuracy: 0.6519 - val_loss: 2.0150 - val_accuracy: 0.6175\n",
            "Epoch 6/2000\n",
            "57/57 [==============================] - 11s 190ms/step - loss: 1.5132 - accuracy: 0.7422 - val_loss: 1.9189 - val_accuracy: 0.6625\n",
            "Epoch 7/2000\n",
            "57/57 [==============================] - 11s 189ms/step - loss: 1.3130 - accuracy: 0.8017 - val_loss: 1.7792 - val_accuracy: 0.6975\n",
            "Epoch 8/2000\n",
            "57/57 [==============================] - 11s 191ms/step - loss: 1.1913 - accuracy: 0.8325 - val_loss: 1.7215 - val_accuracy: 0.6950\n",
            "Epoch 9/2000\n",
            "57/57 [==============================] - 11s 191ms/step - loss: 1.0777 - accuracy: 0.8661 - val_loss: 1.7530 - val_accuracy: 0.6850\n",
            "Epoch 10/2000\n",
            "57/57 [==============================] - 11s 192ms/step - loss: 1.0405 - accuracy: 0.8697 - val_loss: 1.6402 - val_accuracy: 0.7200\n",
            "Epoch 11/2000\n",
            "57/57 [==============================] - 11s 195ms/step - loss: 0.9685 - accuracy: 0.8942 - val_loss: 1.7137 - val_accuracy: 0.7050\n",
            "Epoch 12/2000\n",
            "57/57 [==============================] - 11s 192ms/step - loss: 0.9336 - accuracy: 0.8978 - val_loss: 1.5903 - val_accuracy: 0.7125\n",
            "Epoch 13/2000\n",
            "57/57 [==============================] - 11s 191ms/step - loss: 0.9428 - accuracy: 0.8900 - val_loss: 1.6581 - val_accuracy: 0.7175\n",
            "Epoch 14/2000\n",
            "57/57 [==============================] - 11s 191ms/step - loss: 0.8744 - accuracy: 0.9086 - val_loss: 1.6323 - val_accuracy: 0.7100\n",
            "Epoch 15/2000\n",
            "57/57 [==============================] - 11s 191ms/step - loss: 0.8631 - accuracy: 0.9133 - val_loss: 1.5755 - val_accuracy: 0.7250\n",
            "Epoch 16/2000\n",
            "57/57 [==============================] - 11s 191ms/step - loss: 0.8269 - accuracy: 0.9169 - val_loss: 1.7177 - val_accuracy: 0.7000\n",
            "Epoch 17/2000\n",
            "57/57 [==============================] - 11s 192ms/step - loss: 0.8436 - accuracy: 0.9136 - val_loss: 1.6743 - val_accuracy: 0.7050\n",
            "Epoch 18/2000\n",
            "57/57 [==============================] - 11s 192ms/step - loss: 0.8264 - accuracy: 0.9119 - val_loss: 1.6810 - val_accuracy: 0.7175\n",
            "Epoch 19/2000\n",
            "57/57 [==============================] - 11s 192ms/step - loss: 0.7996 - accuracy: 0.9200 - val_loss: 1.6362 - val_accuracy: 0.7275\n",
            "Epoch 20/2000\n",
            "57/57 [==============================] - 11s 192ms/step - loss: 0.7885 - accuracy: 0.9228 - val_loss: 1.6285 - val_accuracy: 0.7325\n",
            "113/113 [==============================] - 3s 30ms/step - loss: 0.5543 - accuracy: 0.9986\n",
            "13/13 [==============================] - 0s 29ms/step - loss: 1.6285 - accuracy: 0.7325\n"
          ],
          "name": "stdout"
        },
        {
          "output_type": "display_data",
          "data": {
            "image/png": "[encoded data removed]",
            "text/plain": [
              "<Figure size 432x288 with 1 Axes>"
            ]
          },
          "metadata": {
            "tags": [],
            "needs_background": "light"
          }
        },
        {
          "output_type": "display_data",
          "data": {
            "image/png": "[encoded data removed]",
            "text/plain": [
              "<Figure size 432x288 with 1 Axes>"
            ]
          },
          "metadata": {
            "tags": [],
            "needs_background": "light"
          }
        }
      ]
    }
  ]
}